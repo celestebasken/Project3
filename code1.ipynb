{
 "cells": [
  {
   "cell_type": "code",
   "execution_count": 3,
   "id": "9e0fdb58-409f-4de6-acaf-53f2c04a1949",
   "metadata": {},
   "outputs": [
    {
     "ename": "ModuleNotFoundError",
     "evalue": "No module named 'eep153_tools'",
     "output_type": "error",
     "traceback": [
      "\u001b[31m---------------------------------------------------------------------------\u001b[39m",
      "\u001b[31mModuleNotFoundError\u001b[39m                       Traceback (most recent call last)",
      "\u001b[36mCell\u001b[39m\u001b[36m \u001b[39m\u001b[32mIn[3]\u001b[39m\u001b[32m, line 3\u001b[39m\n\u001b[32m      1\u001b[39m \u001b[38;5;28;01mimport\u001b[39;00m\u001b[38;5;250m \u001b[39m\u001b[34;01mpandas\u001b[39;00m\u001b[38;5;250m \u001b[39m\u001b[38;5;28;01mas\u001b[39;00m\u001b[38;5;250m \u001b[39m\u001b[34;01mpd\u001b[39;00m\n\u001b[32m      2\u001b[39m \u001b[38;5;28;01mimport\u001b[39;00m\u001b[38;5;250m \u001b[39m\u001b[34;01mnumpy\u001b[39;00m\u001b[38;5;250m \u001b[39m\u001b[38;5;28;01mas\u001b[39;00m\u001b[38;5;250m \u001b[39m\u001b[34;01mnp\u001b[39;00m\n\u001b[32m----> \u001b[39m\u001b[32m3\u001b[39m \u001b[38;5;28;01mfrom\u001b[39;00m\u001b[38;5;250m \u001b[39m\u001b[34;01meep153_tools\u001b[39;00m\u001b[34;01m.\u001b[39;00m\u001b[34;01msheets\u001b[39;00m\u001b[38;5;250m \u001b[39m\u001b[38;5;28;01mimport\u001b[39;00m read_sheets\n\u001b[32m      4\u001b[39m Ethiopia_Data = \u001b[33m'\u001b[39m\u001b[33m1qOZi1FqAS89x461pCIgwRaAfpBw5aUp7kBbp0tQKI_E\u001b[39m\u001b[33m'\u001b[39m\n\u001b[32m      5\u001b[39m \u001b[38;5;66;03m# Change 'Ethiopia_Data' to key of your own sheet in Sheets, above\u001b[39;00m\n",
      "\u001b[31mModuleNotFoundError\u001b[39m: No module named 'eep153_tools'"
     ]
    }
   ],
   "source": [
    "import pandas as pd\n",
    "import numpy as np\n",
    "from eep153_tools.sheets import read_sheets\n",
    "Ethiopia_Data = '1qOZi1FqAS89x461pCIgwRaAfpBw5aUp7kBbp0tQKI_E'\n",
    "# Change 'Ethiopia_Data' to key of your own sheet in Sheets, above\n",
    "x = read_sheets(Ethiopia_Data,sheet = 'Food Expenditures (2011-12)')\n",
    "x = x.set_index(['i','t','m','j']).squeeze()\n",
    "\n",
    "\n",
    "# Now prices\n",
    "p = read_sheets(Ethiopia_Data,sheet='Food Prices (2011-12)').set_index(['t','m','j','u'])\n",
    "\n",
    "# Compute medians of prices for particular time, place and unit\n",
    "p = p.groupby(['t','m','j','u']).median()\n",
    "\n",
    "# Just keep metric units\n",
    "p = p.xs('Kg',level=\"u\").squeeze().unstack('j')\n",
    "\n",
    "# Drop prices for goods we don't have expenditures for\n",
    "# p = p[x.index.levels[-1]].T\n",
    "p =  p.dropna()\n",
    "\n",
    "# Household characteristics\n",
    "d = read_sheets(Ethiopia_Data,sheet=\"Household Characteristics\")\n",
    "d.columns.name = 'k'\n",
    "\n",
    "# Fill blanks with zeros\n",
    "d = d.replace(np.nan,0)\n",
    "\n",
    "# Expenditures x may have duplicate columns\n",
    "x = x.T.groupby(['i','t','m','j']).sum()\n",
    "x = x.replace(0,np.nan) # Replace zeros with missing\n",
    "\n",
    "# Take logs of expenditures; call this y\n",
    "y = np.log(x)\n",
    "\n",
    "d.set_index(['i','t','m'],inplace=True)"
   ]
  },
  {
   "cell_type": "code",
   "execution_count": 4,
   "id": "e6fbb3eb-9064-40fe-ba43-8269a21a8843",
   "metadata": {},
   "outputs": [
    {
     "ename": "NameError",
     "evalue": "name 'd' is not defined",
     "output_type": "error",
     "traceback": [
      "\u001b[31m---------------------------------------------------------------------------\u001b[39m",
      "\u001b[31mNameError\u001b[39m                                 Traceback (most recent call last)",
      "\u001b[36mCell\u001b[39m\u001b[36m \u001b[39m\u001b[32mIn[4]\u001b[39m\u001b[32m, line 1\u001b[39m\n\u001b[32m----> \u001b[39m\u001b[32m1\u001b[39m \u001b[43md\u001b[49m.groupby(\u001b[33m'\u001b[39m\u001b[33mt\u001b[39m\u001b[33m'\u001b[39m).mean()\n",
      "\u001b[31mNameError\u001b[39m: name 'd' is not defined"
     ]
    }
   ],
   "source": [
    "d.groupby('t').mean()"
   ]
  },
  {
   "cell_type": "code",
   "execution_count": 5,
   "id": "ba1e3c22-a647-43bb-b450-5d4ada6f95a6",
   "metadata": {},
   "outputs": [
    {
     "ename": "ModuleNotFoundError",
     "evalue": "No module named 'cfe'",
     "output_type": "error",
     "traceback": [
      "\u001b[31m---------------------------------------------------------------------------\u001b[39m",
      "\u001b[31mModuleNotFoundError\u001b[39m                       Traceback (most recent call last)",
      "\u001b[36mCell\u001b[39m\u001b[36m \u001b[39m\u001b[32mIn[5]\u001b[39m\u001b[32m, line 1\u001b[39m\n\u001b[32m----> \u001b[39m\u001b[32m1\u001b[39m \u001b[38;5;28;01mfrom\u001b[39;00m\u001b[38;5;250m \u001b[39m\u001b[34;01mcfe\u001b[39;00m\u001b[38;5;250m \u001b[39m\u001b[38;5;28;01mimport\u001b[39;00m Regression\n\u001b[32m      3\u001b[39m result = Regression(y=y, d=d)\n",
      "\u001b[31mModuleNotFoundError\u001b[39m: No module named 'cfe'"
     ]
    }
   ],
   "source": [
    "from cfe import Regression\n",
    "\n",
    "result = Regression(y=y, d=d)"
   ]
  }
 ],
 "metadata": {
  "kernelspec": {
   "display_name": "Python 3 (ipykernel)",
   "language": "python",
   "name": "python3"
  },
  "language_info": {
   "codemirror_mode": {
    "name": "ipython",
    "version": 3
   },
   "file_extension": ".py",
   "mimetype": "text/x-python",
   "name": "python",
   "nbconvert_exporter": "python",
   "pygments_lexer": "ipython3",
   "version": "3.11.11"
  }
 },
 "nbformat": 4,
 "nbformat_minor": 5
}
