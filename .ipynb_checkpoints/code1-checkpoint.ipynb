{
 "cells": [
  {
   "cell_type": "code",
   "execution_count": 1,
   "id": "9e0fdb58-409f-4de6-acaf-53f2c04a1949",
   "metadata": {},
   "outputs": [
    {
     "name": "stdout",
     "output_type": "stream",
     "text": [
      "Requirement already satisfied: CFEDemands>=0.6.3.dev0 in /srv/conda/lib/python3.11/site-packages (from -r requirements.txt (line 5)) (0.6.4.dev0)\n",
      "Requirement already satisfied: ConsumerDemands>=0.4.3.dev0 in /srv/conda/lib/python3.11/site-packages (from -r requirements.txt (line 7)) (0.4.3.dev0)\n",
      "Requirement already satisfied: matplotlib>=3.3.4 in /srv/conda/lib/python3.11/site-packages (from -r requirements.txt (line 10)) (3.10.1)\n",
      "Requirement already satisfied: numpy>=1.21.5 in /srv/conda/lib/python3.11/site-packages (from -r requirements.txt (line 14)) (2.2.4)\n",
      "Requirement already satisfied: pandas>=1.3.5 in /srv/conda/lib/python3.11/site-packages (from -r requirements.txt (line 20)) (2.2.3)\n",
      "Requirement already satisfied: plotly>=5.1.0 in /srv/conda/lib/python3.11/site-packages (from -r requirements.txt (line 23)) (6.0.1)\n",
      "Requirement already satisfied: eep153_tools>=0.11 in /srv/conda/lib/python3.11/site-packages (from -r requirements.txt (line 25)) (0.12.4)\n",
      "Requirement already satisfied: python-gnupg in /srv/conda/lib/python3.11/site-packages (from -r requirements.txt (line 26)) (0.5.4)\n",
      "Requirement already satisfied: gspread_pandas>=3.3 in /srv/conda/lib/python3.11/site-packages (from -r requirements.txt (line 28)) (3.3.0)\n",
      "Requirement already satisfied: scikit-learn in /srv/conda/lib/python3.11/site-packages (from -r requirements.txt (line 30)) (1.6.0)\n",
      "Requirement already satisfied: xarray in /srv/conda/lib/python3.11/site-packages (from -r requirements.txt (line 31)) (2025.1.1)\n",
      "Requirement already satisfied: scipy>=1.7.3 in /srv/conda/lib/python3.11/site-packages (from CFEDemands>=0.6.3.dev0->-r requirements.txt (line 5)) (1.14.1)\n",
      "Requirement already satisfied: importlib_metadata>=6.7.0 in /srv/conda/lib/python3.11/site-packages (from CFEDemands>=0.6.3.dev0->-r requirements.txt (line 5)) (8.6.1)\n",
      "Requirement already satisfied: fsspec in /srv/conda/lib/python3.11/site-packages (from CFEDemands>=0.6.3.dev0->-r requirements.txt (line 5)) (2025.3.2)\n",
      "Requirement already satisfied: contourpy>=1.0.1 in /srv/conda/lib/python3.11/site-packages (from matplotlib>=3.3.4->-r requirements.txt (line 10)) (1.3.1)\n",
      "Requirement already satisfied: cycler>=0.10 in /srv/conda/lib/python3.11/site-packages (from matplotlib>=3.3.4->-r requirements.txt (line 10)) (0.12.1)\n",
      "Requirement already satisfied: fonttools>=4.22.0 in /srv/conda/lib/python3.11/site-packages (from matplotlib>=3.3.4->-r requirements.txt (line 10)) (4.56.0)\n",
      "Requirement already satisfied: kiwisolver>=1.3.1 in /srv/conda/lib/python3.11/site-packages (from matplotlib>=3.3.4->-r requirements.txt (line 10)) (1.4.7)\n",
      "Requirement already satisfied: packaging>=20.0 in /srv/conda/lib/python3.11/site-packages (from matplotlib>=3.3.4->-r requirements.txt (line 10)) (24.2)\n",
      "Requirement already satisfied: pillow>=8 in /srv/conda/lib/python3.11/site-packages (from matplotlib>=3.3.4->-r requirements.txt (line 10)) (11.1.0)\n",
      "Requirement already satisfied: pyparsing>=2.3.1 in /srv/conda/lib/python3.11/site-packages (from matplotlib>=3.3.4->-r requirements.txt (line 10)) (3.2.3)\n",
      "Requirement already satisfied: python-dateutil>=2.7 in /srv/conda/lib/python3.11/site-packages (from matplotlib>=3.3.4->-r requirements.txt (line 10)) (2.9.0.post0)\n",
      "Requirement already satisfied: pytz>=2020.1 in /srv/conda/lib/python3.11/site-packages (from pandas>=1.3.5->-r requirements.txt (line 20)) (2024.1)\n",
      "Requirement already satisfied: tzdata>=2022.7 in /srv/conda/lib/python3.11/site-packages (from pandas>=1.3.5->-r requirements.txt (line 20)) (2025.2)\n",
      "Requirement already satisfied: narwhals>=1.15.1 in /srv/conda/lib/python3.11/site-packages (from plotly>=5.1.0->-r requirements.txt (line 23)) (1.33.0)\n",
      "Requirement already satisfied: gspread<6,>=5.0.0 in /srv/conda/lib/python3.11/site-packages (from gspread_pandas>=3.3->-r requirements.txt (line 28)) (5.12.4)\n",
      "Requirement already satisfied: decorator in /srv/conda/lib/python3.11/site-packages (from gspread_pandas>=3.3->-r requirements.txt (line 28)) (5.1.1)\n",
      "Requirement already satisfied: google-auth in /srv/conda/lib/python3.11/site-packages (from gspread_pandas>=3.3->-r requirements.txt (line 28)) (2.38.0)\n",
      "Requirement already satisfied: google-auth-oauthlib in /srv/conda/lib/python3.11/site-packages (from gspread_pandas>=3.3->-r requirements.txt (line 28)) (1.2.1)\n",
      "Requirement already satisfied: joblib>=1.2.0 in /srv/conda/lib/python3.11/site-packages (from scikit-learn->-r requirements.txt (line 30)) (1.4.2)\n",
      "Requirement already satisfied: threadpoolctl>=3.1.0 in /srv/conda/lib/python3.11/site-packages (from scikit-learn->-r requirements.txt (line 30)) (3.6.0)\n",
      "Requirement already satisfied: cachetools<6.0,>=2.0.0 in /srv/conda/lib/python3.11/site-packages (from google-auth->gspread_pandas>=3.3->-r requirements.txt (line 28)) (5.5.2)\n",
      "Requirement already satisfied: pyasn1-modules>=0.2.1 in /srv/conda/lib/python3.11/site-packages (from google-auth->gspread_pandas>=3.3->-r requirements.txt (line 28)) (0.4.2)\n",
      "Requirement already satisfied: rsa<5,>=3.1.4 in /srv/conda/lib/python3.11/site-packages (from google-auth->gspread_pandas>=3.3->-r requirements.txt (line 28)) (4.9)\n",
      "Requirement already satisfied: requests-oauthlib>=0.7.0 in /srv/conda/lib/python3.11/site-packages (from google-auth-oauthlib->gspread_pandas>=3.3->-r requirements.txt (line 28)) (2.0.0)\n",
      "Requirement already satisfied: zipp>=3.20 in /srv/conda/lib/python3.11/site-packages (from importlib_metadata>=6.7.0->CFEDemands>=0.6.3.dev0->-r requirements.txt (line 5)) (3.21.0)\n",
      "Requirement already satisfied: six>=1.5 in /srv/conda/lib/python3.11/site-packages (from python-dateutil>=2.7->matplotlib>=3.3.4->-r requirements.txt (line 10)) (1.17.0)\n",
      "Requirement already satisfied: pyasn1<0.7.0,>=0.6.1 in /srv/conda/lib/python3.11/site-packages (from pyasn1-modules>=0.2.1->google-auth->gspread_pandas>=3.3->-r requirements.txt (line 28)) (0.6.1)\n",
      "Requirement already satisfied: oauthlib>=3.0.0 in /srv/conda/lib/python3.11/site-packages (from requests-oauthlib>=0.7.0->google-auth-oauthlib->gspread_pandas>=3.3->-r requirements.txt (line 28)) (3.2.2)\n",
      "Requirement already satisfied: requests>=2.0.0 in /srv/conda/lib/python3.11/site-packages (from requests-oauthlib>=0.7.0->google-auth-oauthlib->gspread_pandas>=3.3->-r requirements.txt (line 28)) (2.32.3)\n",
      "Requirement already satisfied: charset_normalizer<4,>=2 in /srv/conda/lib/python3.11/site-packages (from requests>=2.0.0->requests-oauthlib>=0.7.0->google-auth-oauthlib->gspread_pandas>=3.3->-r requirements.txt (line 28)) (3.4.0)\n",
      "Requirement already satisfied: idna<4,>=2.5 in /srv/conda/lib/python3.11/site-packages (from requests>=2.0.0->requests-oauthlib>=0.7.0->google-auth-oauthlib->gspread_pandas>=3.3->-r requirements.txt (line 28)) (3.10)\n",
      "Requirement already satisfied: urllib3<3,>=1.21.1 in /srv/conda/lib/python3.11/site-packages (from requests>=2.0.0->requests-oauthlib>=0.7.0->google-auth-oauthlib->gspread_pandas>=3.3->-r requirements.txt (line 28)) (2.3.0)\n",
      "Requirement already satisfied: certifi>=2017.4.17 in /srv/conda/lib/python3.11/site-packages (from requests>=2.0.0->requests-oauthlib>=0.7.0->google-auth-oauthlib->gspread_pandas>=3.3->-r requirements.txt (line 28)) (2025.1.31)\n"
     ]
    }
   ],
   "source": [
    "!pip install -r requirements.txt"
   ]
  },
  {
   "cell_type": "code",
   "execution_count": null,
   "id": "3b4381b1-0fb2-4b6e-8230-90c2a3dcf2c2",
   "metadata": {},
   "outputs": [],
   "source": [
    "\n"
   ]
  },
  {
   "cell_type": "code",
   "execution_count": 1,
   "id": "56c18923-ac01-4f04-ba23-6f0b9d7f8706",
   "metadata": {},
   "outputs": [],
   "source": [
    "import pandas as pd\n",
    "import numpy as np\n",
    "from eep153_tools.sheets import read_sheets\n",
    "Ethiopia_Data = '1qOZi1FqAS89x461pCIgwRaAfpBw5aUp7kBbp0tQKI_E'\n",
    "# Change 'Ethiopia_Data' to key of your own sheet in Sheets, above\n",
    "x = read_sheets(Ethiopia_Data,sheet = 'Food Expenditures (2011-12)')\n",
    "x = x.set_index(['i','t','m','j']).squeeze()\n",
    "\n",
    "\n",
    "# Now prices\n",
    "p = read_sheets(Ethiopia_Data,sheet='Food Prices (2011-12)').set_index(['t','m','j','u'])\n",
    "\n",
    "# Compute medians of prices for particular time, place and unit\n",
    "p = p.groupby(['t','m','j','u']).median()\n",
    "\n",
    "# Just keep metric units\n",
    "p = p.xs('Kg',level=\"u\").squeeze().unstack('j')\n",
    "\n",
    "# Drop prices for goods we don't have expenditures for\n",
    "# p = p[x.index.levels[-1]].T\n",
    "p =  p.dropna()\n",
    "\n",
    "# Household characteristics\n",
    "d = read_sheets(Ethiopia_Data,sheet=\"Household Characteristics\")\n",
    "d.columns.name = 'k'\n",
    "\n",
    "# Fill blanks with zeros\n",
    "d = d.replace(np.nan,0)\n",
    "\n",
    "# Expenditures x may have duplicate columns\n",
    "x = x.T.groupby(['i','t','m','j']).sum()\n",
    "x = x.replace(0,np.nan) # Replace zeros with missing\n",
    "\n",
    "# Take logs of expenditures; call this y\n",
    "y = np.log(x)\n",
    "\n",
    "d.set_index(['i','t','m'],inplace=True)"
   ]
  },
  {
   "cell_type": "code",
   "execution_count": 2,
   "id": "e6fbb3eb-9064-40fe-ba43-8269a21a8843",
   "metadata": {},
   "outputs": [
    {
     "data": {
      "text/html": [
       "<div>\n",
       "<style scoped>\n",
       "    .dataframe tbody tr th:only-of-type {\n",
       "        vertical-align: middle;\n",
       "    }\n",
       "\n",
       "    .dataframe tbody tr th {\n",
       "        vertical-align: top;\n",
       "    }\n",
       "\n",
       "    .dataframe thead th {\n",
       "        text-align: right;\n",
       "    }\n",
       "</style>\n",
       "<table border=\"1\" class=\"dataframe\">\n",
       "  <thead>\n",
       "    <tr style=\"text-align: right;\">\n",
       "      <th>k</th>\n",
       "      <th>Females 00-03</th>\n",
       "      <th>Females 04-08</th>\n",
       "      <th>Females 09-13</th>\n",
       "      <th>Females 14-18</th>\n",
       "      <th>Females 19-30</th>\n",
       "      <th>Females 31-50</th>\n",
       "      <th>Females 51-99</th>\n",
       "      <th>Males 00-03</th>\n",
       "      <th>Males 04-08</th>\n",
       "      <th>Males 09-13</th>\n",
       "      <th>Males 14-18</th>\n",
       "      <th>Males 19-30</th>\n",
       "      <th>Males 31-50</th>\n",
       "      <th>Males 51-99</th>\n",
       "      <th>log HSize</th>\n",
       "    </tr>\n",
       "    <tr>\n",
       "      <th>t</th>\n",
       "      <th></th>\n",
       "      <th></th>\n",
       "      <th></th>\n",
       "      <th></th>\n",
       "      <th></th>\n",
       "      <th></th>\n",
       "      <th></th>\n",
       "      <th></th>\n",
       "      <th></th>\n",
       "      <th></th>\n",
       "      <th></th>\n",
       "      <th></th>\n",
       "      <th></th>\n",
       "      <th></th>\n",
       "      <th></th>\n",
       "    </tr>\n",
       "  </thead>\n",
       "  <tbody>\n",
       "    <tr>\n",
       "      <th>2011-12</th>\n",
       "      <td>0.000000</td>\n",
       "      <td>0.332397</td>\n",
       "      <td>0.341843</td>\n",
       "      <td>0.272913</td>\n",
       "      <td>0.470258</td>\n",
       "      <td>0.424560</td>\n",
       "      <td>0.201174</td>\n",
       "      <td>0.000000</td>\n",
       "      <td>0.341843</td>\n",
       "      <td>0.368394</td>\n",
       "      <td>0.295124</td>\n",
       "      <td>0.406178</td>\n",
       "      <td>0.378095</td>\n",
       "      <td>0.246362</td>\n",
       "      <td>1.240192</td>\n",
       "    </tr>\n",
       "    <tr>\n",
       "      <th>2013-14</th>\n",
       "      <td>0.234645</td>\n",
       "      <td>0.345883</td>\n",
       "      <td>0.349306</td>\n",
       "      <td>0.319643</td>\n",
       "      <td>0.549724</td>\n",
       "      <td>0.436965</td>\n",
       "      <td>0.226849</td>\n",
       "      <td>0.249097</td>\n",
       "      <td>0.357102</td>\n",
       "      <td>0.354440</td>\n",
       "      <td>0.321354</td>\n",
       "      <td>0.467579</td>\n",
       "      <td>0.404640</td>\n",
       "      <td>0.229131</td>\n",
       "      <td>1.407929</td>\n",
       "    </tr>\n",
       "    <tr>\n",
       "      <th>2015-16</th>\n",
       "      <td>0.217172</td>\n",
       "      <td>0.340404</td>\n",
       "      <td>0.372727</td>\n",
       "      <td>0.289899</td>\n",
       "      <td>0.498788</td>\n",
       "      <td>0.487677</td>\n",
       "      <td>0.254747</td>\n",
       "      <td>0.240000</td>\n",
       "      <td>0.356364</td>\n",
       "      <td>0.375152</td>\n",
       "      <td>0.312929</td>\n",
       "      <td>0.420000</td>\n",
       "      <td>0.425051</td>\n",
       "      <td>0.207879</td>\n",
       "      <td>1.420437</td>\n",
       "    </tr>\n",
       "    <tr>\n",
       "      <th>2018-19</th>\n",
       "      <td>0.216248</td>\n",
       "      <td>0.320384</td>\n",
       "      <td>0.286263</td>\n",
       "      <td>0.280798</td>\n",
       "      <td>0.536780</td>\n",
       "      <td>0.428508</td>\n",
       "      <td>0.173855</td>\n",
       "      <td>0.224963</td>\n",
       "      <td>0.316987</td>\n",
       "      <td>0.293205</td>\n",
       "      <td>0.266470</td>\n",
       "      <td>0.424225</td>\n",
       "      <td>0.402659</td>\n",
       "      <td>0.186706</td>\n",
       "      <td>1.302566</td>\n",
       "    </tr>\n",
       "  </tbody>\n",
       "</table>\n",
       "</div>"
      ],
      "text/plain": [
       "k        Females 00-03  Females 04-08  Females 09-13  Females 14-18  \\\n",
       "t                                                                     \n",
       "2011-12       0.000000       0.332397       0.341843       0.272913   \n",
       "2013-14       0.234645       0.345883       0.349306       0.319643   \n",
       "2015-16       0.217172       0.340404       0.372727       0.289899   \n",
       "2018-19       0.216248       0.320384       0.286263       0.280798   \n",
       "\n",
       "k        Females 19-30  Females 31-50  Females 51-99  Males 00-03  \\\n",
       "t                                                                   \n",
       "2011-12       0.470258       0.424560       0.201174     0.000000   \n",
       "2013-14       0.549724       0.436965       0.226849     0.249097   \n",
       "2015-16       0.498788       0.487677       0.254747     0.240000   \n",
       "2018-19       0.536780       0.428508       0.173855     0.224963   \n",
       "\n",
       "k        Males 04-08  Males 09-13  Males 14-18  Males 19-30  Males 31-50  \\\n",
       "t                                                                          \n",
       "2011-12     0.341843     0.368394     0.295124     0.406178     0.378095   \n",
       "2013-14     0.357102     0.354440     0.321354     0.467579     0.404640   \n",
       "2015-16     0.356364     0.375152     0.312929     0.420000     0.425051   \n",
       "2018-19     0.316987     0.293205     0.266470     0.424225     0.402659   \n",
       "\n",
       "k        Males 51-99  log HSize  \n",
       "t                                \n",
       "2011-12     0.246362   1.240192  \n",
       "2013-14     0.229131   1.407929  \n",
       "2015-16     0.207879   1.420437  \n",
       "2018-19     0.186706   1.302566  "
      ]
     },
     "execution_count": 2,
     "metadata": {},
     "output_type": "execute_result"
    }
   ],
   "source": [
    "d.groupby('t').mean()"
   ]
  },
  {
   "cell_type": "code",
   "execution_count": 5,
   "id": "b9ad23a0-1028-48fc-b5eb-8d74139d22e2",
   "metadata": {},
   "outputs": [
    {
     "name": "stdout",
     "output_type": "stream",
     "text": [
      "Collecting cfe\n",
      "  Using cached cfe-0.0.22-py3-none-any.whl.metadata (649 bytes)\n",
      "Requirement already satisfied: requests>=2.25.1 in /srv/conda/lib/python3.11/site-packages (from cfe) (2.32.3)\n",
      "Requirement already satisfied: fire in /srv/conda/lib/python3.11/site-packages (from cfe) (0.7.0)\n",
      "Requirement already satisfied: rich in /srv/conda/lib/python3.11/site-packages (from cfe) (13.9.4)\n",
      "Requirement already satisfied: charset_normalizer<4,>=2 in /srv/conda/lib/python3.11/site-packages (from requests>=2.25.1->cfe) (3.4.0)\n",
      "Requirement already satisfied: idna<4,>=2.5 in /srv/conda/lib/python3.11/site-packages (from requests>=2.25.1->cfe) (3.10)\n",
      "Requirement already satisfied: urllib3<3,>=1.21.1 in /srv/conda/lib/python3.11/site-packages (from requests>=2.25.1->cfe) (2.3.0)\n",
      "Requirement already satisfied: certifi>=2017.4.17 in /srv/conda/lib/python3.11/site-packages (from requests>=2.25.1->cfe) (2025.1.31)\n",
      "Requirement already satisfied: termcolor in /srv/conda/lib/python3.11/site-packages (from fire->cfe) (3.0.1)\n",
      "Requirement already satisfied: markdown-it-py>=2.2.0 in /srv/conda/lib/python3.11/site-packages (from rich->cfe) (3.0.0)\n",
      "Requirement already satisfied: pygments<3.0.0,>=2.13.0 in /srv/conda/lib/python3.11/site-packages (from rich->cfe) (2.19.1)\n",
      "Requirement already satisfied: mdurl~=0.1 in /srv/conda/lib/python3.11/site-packages (from markdown-it-py>=2.2.0->rich->cfe) (0.1.2)\n",
      "Using cached cfe-0.0.22-py3-none-any.whl (2.1 kB)\n",
      "Installing collected packages: cfe\n",
      "Successfully installed cfe-0.0.22\n",
      "Note: you may need to restart the kernel to use updated packages.\n"
     ]
    }
   ],
   "source": [
    "pip install cfe"
   ]
  },
  {
   "cell_type": "code",
   "execution_count": 18,
   "id": "dfa39e52-d6d2-489c-bf7e-7dc1ec14a1fe",
   "metadata": {},
   "outputs": [
    {
     "name": "stdout",
     "output_type": "stream",
     "text": [
      "\u001b[31mERROR: Could not find a version that satisfies the requirement cfe==0.6.4.dev0 (from versions: 0.0.22)\u001b[0m\u001b[31m\n",
      "\u001b[0m\u001b[31mERROR: No matching distribution found for cfe==0.6.4.dev0\u001b[0m\u001b[31m\n",
      "Note: you may need to restart the kernel to use updated packages.\n"
     ]
    }
   ],
   "source": [
    "pip install cfe==0.6.4.dev0"
   ]
  },
  {
   "cell_type": "code",
   "execution_count": 17,
   "id": "ba1e3c22-a647-43bb-b450-5d4ada6f95a6",
   "metadata": {},
   "outputs": [
    {
     "ename": "AssertionError",
     "evalue": "Fewer rows than columns.  Consider passing the transpose.",
     "output_type": "error",
     "traceback": [
      "\u001b[31m---------------------------------------------------------------------------\u001b[39m",
      "\u001b[31mAssertionError\u001b[39m                            Traceback (most recent call last)",
      "\u001b[36mCell\u001b[39m\u001b[36m \u001b[39m\u001b[32mIn[17]\u001b[39m\u001b[32m, line 3\u001b[39m\n\u001b[32m      1\u001b[39m \u001b[38;5;28;01mimport\u001b[39;00m\u001b[38;5;250m \u001b[39m\u001b[34;01mcfe\u001b[39;00m\u001b[34;01m.\u001b[39;00m\u001b[34;01mregression\u001b[39;00m\u001b[38;5;250m \u001b[39m\u001b[38;5;28;01mas\u001b[39;00m\u001b[38;5;250m \u001b[39m\u001b[34;01mrgsn\u001b[39;00m\n\u001b[32m----> \u001b[39m\u001b[32m3\u001b[39m result = \u001b[43mrgsn\u001b[49m\u001b[43m.\u001b[49m\u001b[43mRegression\u001b[49m\u001b[43m(\u001b[49m\u001b[43my\u001b[49m\u001b[43m=\u001b[49m\u001b[43my\u001b[49m\u001b[43m,\u001b[49m\u001b[43m \u001b[49m\u001b[43md\u001b[49m\u001b[43m=\u001b[49m\u001b[43md\u001b[49m\u001b[43m)\u001b[49m\n",
      "\u001b[36mFile \u001b[39m\u001b[32m/srv/conda/lib/python3.11/site-packages/cfe/regression.py:810\u001b[39m, in \u001b[36mRegression.__init__\u001b[39m\u001b[34m(self, correct_miss, method, K, bootstrap_tol, compute_se, rectify, verbose, min_obs, min_prop_items, alltm, **kwargs)\u001b[39m\n\u001b[32m    807\u001b[39m     \u001b[38;5;28mself\u001b[39m.attrs=attrs\n\u001b[32m    809\u001b[39m \u001b[38;5;28;01mif\u001b[39;00m \u001b[33m'\u001b[39m\u001b[33my\u001b[39m\u001b[33m'\u001b[39m \u001b[38;5;129;01min\u001b[39;00m kwargs.keys() \u001b[38;5;129;01mand\u001b[39;00m \u001b[33m'\u001b[39m\u001b[33md\u001b[39m\u001b[33m'\u001b[39m \u001b[38;5;129;01min\u001b[39;00m kwargs.keys():\n\u001b[32m--> \u001b[39m\u001b[32m810\u001b[39m     \u001b[38;5;28mself\u001b[39m.y,\u001b[38;5;28mself\u001b[39m.d = \u001b[43mprepare_data\u001b[49m\u001b[43m(\u001b[49m\u001b[38;5;28;43mself\u001b[39;49m\u001b[43m.\u001b[49m\u001b[43my\u001b[49m\u001b[43m,\u001b[49m\u001b[38;5;28;43mself\u001b[39;49m\u001b[43m.\u001b[49m\u001b[43md\u001b[49m\u001b[43m,\u001b[49m\u001b[43mmin_obs\u001b[49m\u001b[43m=\u001b[49m\u001b[43mmin_obs\u001b[49m\u001b[43m,\u001b[49m\n\u001b[32m    811\u001b[39m \u001b[43m                                 \u001b[49m\u001b[43mmin_prop_items\u001b[49m\u001b[43m=\u001b[49m\u001b[43mmin_prop_items\u001b[49m\u001b[43m,\u001b[49m\n\u001b[32m    812\u001b[39m \u001b[43m                                 \u001b[49m\u001b[43malltm\u001b[49m\u001b[43m=\u001b[49m\u001b[43malltm\u001b[49m\u001b[43m)\u001b[49m\n",
      "\u001b[36mFile \u001b[39m\u001b[32m/srv/conda/lib/python3.11/site-packages/cfe/regression.py:599\u001b[39m, in \u001b[36mprepare_data\u001b[39m\u001b[34m(y, d, min_obs, min_prop_items, alltm)\u001b[39m\n\u001b[32m    595\u001b[39m y = YD[\u001b[33m'\u001b[39m\u001b[33my\u001b[39m\u001b[33m'\u001b[39m]  \u001b[38;5;66;03m# Drops expenditures that lack corresponding d\u001b[39;00m\n\u001b[32m    597\u001b[39m \u001b[38;5;66;03m# Drop goods from y if not enough observations to calculate\u001b[39;00m\n\u001b[32m    598\u001b[39m \u001b[38;5;66;03m# covariance matrix\u001b[39;00m\n\u001b[32m--> \u001b[39m\u001b[32m599\u001b[39m Y = \u001b[43mdrop_columns_wo_covariance\u001b[49m\u001b[43m(\u001b[49m\u001b[43my\u001b[49m\u001b[43m.\u001b[49m\u001b[43munstack\u001b[49m\u001b[43m(\u001b[49m\u001b[33;43m'\u001b[39;49m\u001b[33;43mj\u001b[39;49m\u001b[33;43m'\u001b[39;49m\u001b[43m)\u001b[49m\u001b[43m,\u001b[49m\u001b[43mmin_obs\u001b[49m\u001b[43m=\u001b[49m\u001b[43mmin_obs\u001b[49m\u001b[43m)\u001b[49m\n\u001b[32m    601\u001b[39m y = Y.stack(\u001b[33m'\u001b[39m\u001b[33mj\u001b[39m\u001b[33m'\u001b[39m).dropna()\n\u001b[32m    603\u001b[39m Ds =[]\n",
      "\u001b[36mFile \u001b[39m\u001b[32m/srv/conda/lib/python3.11/site-packages/cfe/estimation.py:234\u001b[39m, in \u001b[36mdrop_columns_wo_covariance\u001b[39m\u001b[34m(X, min_obs, VERBOSE)\u001b[39m\n\u001b[32m    231\u001b[39m \u001b[38;5;250m\u001b[39m\u001b[33;03m\"\"\"Drop columns from pd.DataFrame that lead to missing elements of covariance matrix.\"\"\"\u001b[39;00m\n\u001b[32m    233\u001b[39m m,n=X.shape\n\u001b[32m--> \u001b[39m\u001b[32m234\u001b[39m \u001b[38;5;28;01massert\u001b[39;00m m>n, \u001b[33m\"\u001b[39m\u001b[33mFewer rows than columns.  Consider passing the transpose.\u001b[39m\u001b[33m\"\u001b[39m\n\u001b[32m    236\u001b[39m \u001b[38;5;66;03m# If good has fewer total observations than min_obs, can't possibly\u001b[39;00m\n\u001b[32m    237\u001b[39m \u001b[38;5;66;03m# have more cross-products.  Dropping here is faster than iterative procedure below.\u001b[39;00m\n\u001b[32m    238\u001b[39m X = X.loc[:,X.count()>=min_obs]\n",
      "\u001b[31mAssertionError\u001b[39m: Fewer rows than columns.  Consider passing the transpose."
     ]
    }
   ],
   "source": [
    "import cfe.regression as rgsn\n",
    "\n",
    "result = rgsn.Regression(y=y, d=d)"
   ]
  },
  {
   "cell_type": "code",
   "execution_count": 19,
   "id": "e4f28615-3a7d-4f28-a76b-8c7b6ff6a37d",
   "metadata": {},
   "outputs": [
    {
     "ename": "TypeError",
     "evalue": "DataFrame.count() got an unexpected keyword argument 'min_prop_items'",
     "output_type": "error",
     "traceback": [
      "\u001b[31m---------------------------------------------------------------------------\u001b[39m",
      "\u001b[31mTypeError\u001b[39m                                 Traceback (most recent call last)",
      "\u001b[36mCell\u001b[39m\u001b[36m \u001b[39m\u001b[32mIn[19]\u001b[39m\u001b[32m, line 1\u001b[39m\n\u001b[32m----> \u001b[39m\u001b[32m1\u001b[39m \u001b[43my\u001b[49m\u001b[43m.\u001b[49m\u001b[43munstack\u001b[49m\u001b[43m(\u001b[49m\u001b[33;43m'\u001b[39;49m\u001b[33;43mj\u001b[39;49m\u001b[33;43m'\u001b[39;49m\u001b[43m)\u001b[49m\u001b[43m.\u001b[49m\u001b[43mcount\u001b[49m\u001b[43m(\u001b[49m\u001b[43maxis\u001b[49m\u001b[43m=\u001b[49m\u001b[32;43m1\u001b[39;49m\u001b[43m,\u001b[49m\u001b[43mmin_prop_items\u001b[49m\u001b[43m=\u001b[49m\u001b[32;43m0.01\u001b[39;49m\u001b[43m)\u001b[49m\n",
      "\u001b[31mTypeError\u001b[39m: DataFrame.count() got an unexpected keyword argument 'min_prop_items'"
     ]
    }
   ],
   "source": [
    "y.unstack('j').count(axis=1,min_prop_items=0.01)"
   ]
  },
  {
   "cell_type": "code",
   "execution_count": 16,
   "id": "de26b4c4-1fa3-45d6-aacf-be20ef6305b5",
   "metadata": {},
   "outputs": [
    {
     "data": {
      "text/plain": [
       "j\n",
       "Banana            361\n",
       "Barley            170\n",
       "Chat/Kat          432\n",
       "Cheese             48\n",
       "Chick Pea         169\n",
       "Coffee           2040\n",
       "Eggs              217\n",
       "Field Pea         655\n",
       "Haricot Beans     272\n",
       "Horsebeans        918\n",
       "Kocho             231\n",
       "Lentils           504\n",
       "Linseed           172\n",
       "Maize             726\n",
       "Meat              905\n",
       "Milk              262\n",
       "Millet             79\n",
       "Niger Seed         28\n",
       "Onion            2572\n",
       "Potato            905\n",
       "Salt             3670\n",
       "Sorghum           414\n",
       "Sugar            1877\n",
       "Teff              643\n",
       "Wheat             635\n",
       "Name: Expenditure, dtype: int64"
      ]
     },
     "execution_count": 16,
     "metadata": {},
     "output_type": "execute_result"
    }
   ],
   "source": [
    "y.groupby('j').count()"
   ]
  },
  {
   "cell_type": "code",
   "execution_count": 5,
   "id": "603b2e53-6acd-42a1-9b5e-37c7a9fc30da",
   "metadata": {},
   "outputs": [
    {
     "ename": "AttributeError",
     "evalue": "module 'cfe' has no attribute '__version__'",
     "output_type": "error",
     "traceback": [
      "\u001b[31m---------------------------------------------------------------------------\u001b[39m",
      "\u001b[31mAttributeError\u001b[39m                            Traceback (most recent call last)",
      "\u001b[36mCell\u001b[39m\u001b[36m \u001b[39m\u001b[32mIn[5]\u001b[39m\u001b[32m, line 2\u001b[39m\n\u001b[32m      1\u001b[39m \u001b[38;5;28;01mimport\u001b[39;00m\u001b[38;5;250m \u001b[39m\u001b[34;01mcfe\u001b[39;00m\n\u001b[32m----> \u001b[39m\u001b[32m2\u001b[39m \u001b[43mcfe\u001b[49m\u001b[43m.\u001b[49m\u001b[43m__version__\u001b[49m\n",
      "\u001b[31mAttributeError\u001b[39m: module 'cfe' has no attribute '__version__'"
     ]
    }
   ],
   "source": [
    "import cfe\n",
    "cfe.__version__"
   ]
  },
  {
   "cell_type": "code",
   "execution_count": 4,
   "id": "8310e6b6-9350-4cbe-a291-9cb0bc914afe",
   "metadata": {},
   "outputs": [],
   "source": [
    "InputFiles = {'Expenditures':('1qOZi1FqAS89x461pCIgwRaAfpBw5aUp7kBbp0tQKI_E','Expenditures'),\n",
    "              'Household Characteristics':('1qOZi1FqAS89x461pCIgwRaAfpBw5aUp7kBbp0tQKI_E','Household Characteristics'),\n",
    "              'Food Prices':('1qOZi1FqAS89x461pCIgwRaAfpBw5aUp7kBbp0tQKI_E','Food Prices (per KG ETB)')}"
   ]
  },
  {
   "cell_type": "code",
   "execution_count": 7,
   "id": "9a9efce3-7270-43ea-8cda-f3bab6c43bb6",
   "metadata": {},
   "outputs": [
    {
     "ename": "ModuleNotFoundError",
     "evalue": "No module named 'gspread.models'",
     "output_type": "error",
     "traceback": [
      "\u001b[31m---------------------------------------------------------------------------\u001b[39m",
      "\u001b[31mModuleNotFoundError\u001b[39m                       Traceback (most recent call last)",
      "\u001b[36mCell\u001b[39m\u001b[36m \u001b[39m\u001b[32mIn[7]\u001b[39m\u001b[32m, line 1\u001b[39m\n\u001b[32m----> \u001b[39m\u001b[32m1\u001b[39m \u001b[38;5;28;01mfrom\u001b[39;00m\u001b[38;5;250m \u001b[39m\u001b[34;01meep153_tools\u001b[39;00m\u001b[34;01m.\u001b[39;00m\u001b[34;01msheets\u001b[39;00m\u001b[38;5;250m \u001b[39m\u001b[38;5;28;01mimport\u001b[39;00m read_sheets\n\u001b[32m      2\u001b[39m \u001b[38;5;28;01mimport\u001b[39;00m\u001b[38;5;250m \u001b[39m\u001b[34;01mnumpy\u001b[39;00m\u001b[38;5;250m \u001b[39m\u001b[38;5;28;01mas\u001b[39;00m\u001b[38;5;250m \u001b[39m\u001b[34;01mnp\u001b[39;00m\n\u001b[32m      3\u001b[39m \u001b[38;5;28;01mimport\u001b[39;00m\u001b[38;5;250m \u001b[39m\u001b[34;01mpandas\u001b[39;00m\u001b[38;5;250m \u001b[39m\u001b[38;5;28;01mas\u001b[39;00m\u001b[38;5;250m \u001b[39m\u001b[34;01mpd\u001b[39;00m\n",
      "\u001b[36mFile \u001b[39m\u001b[32m/srv/conda/lib/python3.11/site-packages/eep153_tools/__init__.py:1\u001b[39m\n\u001b[32m----> \u001b[39m\u001b[32m1\u001b[39m \u001b[38;5;28;01mfrom\u001b[39;00m\u001b[38;5;250m \u001b[39m\u001b[34;01m.\u001b[39;00m\u001b[38;5;250m \u001b[39m\u001b[38;5;28;01mimport\u001b[39;00m sheets\n\u001b[32m      3\u001b[39m __version__ = \u001b[33m'\u001b[39m\u001b[33m0.12.4\u001b[39m\u001b[33m'\u001b[39m,\n",
      "\u001b[36mFile \u001b[39m\u001b[32m/srv/conda/lib/python3.11/site-packages/eep153_tools/sheets.py:203\u001b[39m\n\u001b[32m    201\u001b[39m \u001b[38;5;28;01mfrom\u001b[39;00m\u001b[38;5;250m \u001b[39m\u001b[34;01mgoogle\u001b[39;00m\u001b[34;01m.\u001b[39;00m\u001b[34;01moauth2\u001b[39;00m\u001b[34;01m.\u001b[39;00m\u001b[34;01mservice_account\u001b[39;00m\u001b[38;5;250m \u001b[39m\u001b[38;5;28;01mimport\u001b[39;00m Credentials\n\u001b[32m    202\u001b[39m \u001b[38;5;28;01mimport\u001b[39;00m\u001b[38;5;250m \u001b[39m\u001b[34;01mpandas\u001b[39;00m\u001b[38;5;250m \u001b[39m\u001b[38;5;28;01mas\u001b[39;00m\u001b[38;5;250m \u001b[39m\u001b[34;01mpd\u001b[39;00m\n\u001b[32m--> \u001b[39m\u001b[32m203\u001b[39m \u001b[38;5;28;01mfrom\u001b[39;00m\u001b[38;5;250m \u001b[39m\u001b[34;01mgspread_pandas\u001b[39;00m\u001b[38;5;250m \u001b[39m\u001b[38;5;28;01mimport\u001b[39;00m Client, Spread\n\u001b[32m    204\u001b[39m \u001b[38;5;28;01mfrom\u001b[39;00m\u001b[38;5;250m \u001b[39m\u001b[34;01mgspread_pandas\u001b[39;00m\u001b[34;01m.\u001b[39;00m\u001b[34;01mclient\u001b[39;00m\u001b[38;5;250m \u001b[39m\u001b[38;5;28;01mimport\u001b[39;00m SpreadsheetNotFound\n\u001b[32m    206\u001b[39m \u001b[38;5;28;01mdef\u001b[39;00m\u001b[38;5;250m \u001b[39m\u001b[34mwrite_sheet\u001b[39m(df,user_email,user_role=\u001b[33m'\u001b[39m\u001b[33mreader\u001b[39m\u001b[33m'\u001b[39m,json_creds=\u001b[38;5;28;01mNone\u001b[39;00m,key=\u001b[33m'\u001b[39m\u001b[33m'\u001b[39m,sheet=\u001b[33m'\u001b[39m\u001b[33mMy Sheet\u001b[39m\u001b[33m'\u001b[39m):\n",
      "\u001b[36mFile \u001b[39m\u001b[32m/srv/conda/lib/python3.11/site-packages/gspread_pandas/__init__.py:1\u001b[39m\n\u001b[32m----> \u001b[39m\u001b[32m1\u001b[39m \u001b[38;5;28;01mfrom\u001b[39;00m\u001b[38;5;250m \u001b[39m\u001b[34;01mgspread\u001b[39;00m\u001b[34;01m.\u001b[39;00m\u001b[34;01mmodels\u001b[39;00m\u001b[38;5;250m \u001b[39m\u001b[38;5;28;01mimport\u001b[39;00m Spreadsheet\n\u001b[32m      2\u001b[39m \u001b[38;5;28;01mfrom\u001b[39;00m\u001b[38;5;250m \u001b[39m\u001b[34;01mgspread\u001b[39;00m\u001b[34;01m.\u001b[39;00m\u001b[34;01murls\u001b[39;00m\u001b[38;5;250m \u001b[39m\u001b[38;5;28;01mimport\u001b[39;00m SPREADSHEETS_API_V4_BASE_URL\n\u001b[32m      4\u001b[39m \u001b[38;5;28;01mfrom\u001b[39;00m\u001b[38;5;250m \u001b[39m\u001b[34;01m.\u001b[39;00m\u001b[34;01m_version\u001b[39;00m\u001b[38;5;250m \u001b[39m\u001b[38;5;28;01mimport\u001b[39;00m __version__, __version_info__\n",
      "\u001b[31mModuleNotFoundError\u001b[39m: No module named 'gspread.models'"
     ]
    }
   ],
   "source": [
    "from eep153_tools.sheets import read_sheets\n",
    "import numpy as np\n",
    "import pandas as pd\n",
    "\n",
    "def get_clean_sheet(key,sheet=None):\n",
    "\n",
    "    dfs = read_sheets(key)\n",
    "\n",
    "    if sheet is not None:\n",
    "        df = dfs[sheet]\n",
    "    else:\n",
    "        df = dfs.values()[0]\n",
    "        \n",
    "    df.columns = [c.strip() for c in df.columns.tolist()]\n",
    "\n",
    "    df = df.loc[:,~df.columns.duplicated(keep='first')]   \n",
    "\n",
    "    df = df.drop([col for col in df.columns if col.startswith('Unnamed')], axis=1)\n",
    "\n",
    "    df = df.loc[~df.index.duplicated(), :]\n",
    "\n",
    "    return df"
   ]
  },
  {
   "cell_type": "code",
   "execution_count": 6,
   "id": "040b0e3e-6e2d-48e0-aee1-2e600f1814d7",
   "metadata": {},
   "outputs": [
    {
     "ename": "NameError",
     "evalue": "name 'read_sheets' is not defined",
     "output_type": "error",
     "traceback": [
      "\u001b[31m---------------------------------------------------------------------------\u001b[39m",
      "\u001b[31mNameError\u001b[39m                                 Traceback (most recent call last)",
      "\u001b[36mCell\u001b[39m\u001b[36m \u001b[39m\u001b[32mIn[6]\u001b[39m\u001b[32m, line 2\u001b[39m\n\u001b[32m      1\u001b[39m \u001b[38;5;66;03m# Get expenditures...\u001b[39;00m\n\u001b[32m----> \u001b[39m\u001b[32m2\u001b[39m x = \u001b[43mget_clean_sheet\u001b[49m\u001b[43m(\u001b[49m\u001b[43mInputFiles\u001b[49m\u001b[43m[\u001b[49m\u001b[33;43m'\u001b[39;49m\u001b[33;43mExpenditures\u001b[39;49m\u001b[33;43m'\u001b[39;49m\u001b[43m]\u001b[49m\u001b[43m[\u001b[49m\u001b[32;43m0\u001b[39;49m\u001b[43m]\u001b[49m\u001b[43m,\u001b[49m\n\u001b[32m      3\u001b[39m \u001b[43m                    \u001b[49m\u001b[43msheet\u001b[49m\u001b[43m=\u001b[49m\u001b[43mInputFiles\u001b[49m\u001b[43m[\u001b[49m\u001b[33;43m'\u001b[39;49m\u001b[33;43mExpenditures\u001b[39;49m\u001b[33;43m'\u001b[39;49m\u001b[43m]\u001b[49m\u001b[43m[\u001b[49m\u001b[32;43m1\u001b[39;49m\u001b[43m]\u001b[49m\u001b[43m)\u001b[49m\n\u001b[32m      5\u001b[39m \u001b[38;5;28;01mif\u001b[39;00m \u001b[33m'\u001b[39m\u001b[33mm\u001b[39m\u001b[33m'\u001b[39m \u001b[38;5;129;01mnot\u001b[39;00m \u001b[38;5;129;01min\u001b[39;00m x.columns:\n\u001b[32m      6\u001b[39m     x[\u001b[33m'\u001b[39m\u001b[33mm\u001b[39m\u001b[33m'\u001b[39m] = \u001b[32m1\u001b[39m\n",
      "\u001b[36mCell\u001b[39m\u001b[36m \u001b[39m\u001b[32mIn[5]\u001b[39m\u001b[32m, line 3\u001b[39m, in \u001b[36mget_clean_sheet\u001b[39m\u001b[34m(key, sheet)\u001b[39m\n\u001b[32m      1\u001b[39m \u001b[38;5;28;01mdef\u001b[39;00m\u001b[38;5;250m \u001b[39m\u001b[34mget_clean_sheet\u001b[39m(key,sheet=\u001b[38;5;28;01mNone\u001b[39;00m):\n\u001b[32m----> \u001b[39m\u001b[32m3\u001b[39m     dfs = \u001b[43mread_sheets\u001b[49m(key)\n\u001b[32m      5\u001b[39m     \u001b[38;5;28;01mif\u001b[39;00m sheet \u001b[38;5;129;01mis\u001b[39;00m \u001b[38;5;129;01mnot\u001b[39;00m \u001b[38;5;28;01mNone\u001b[39;00m:\n\u001b[32m      6\u001b[39m         df = dfs[sheet]\n",
      "\u001b[31mNameError\u001b[39m: name 'read_sheets' is not defined"
     ]
    }
   ],
   "source": [
    "# Get expenditures...\n",
    "x = get_clean_sheet(InputFiles['Expenditures'][0],\n",
    "                    sheet=InputFiles['Expenditures'][1])\n",
    "\n",
    "if 'm' not in x.columns:\n",
    "    x['m'] = 1\n",
    "\n",
    "x = x.set_index(['j','t','m'])\n",
    "x.columns.name = 'i'\n",
    "\n",
    "x = x.apply(lambda x: pd.to_numeric(x,errors='coerce'))\n",
    "x = x.replace(0,np.nan)\n",
    "\n",
    "x"
   ]
  },
  {
   "cell_type": "code",
   "execution_count": 8,
   "id": "bd2625d0-009e-45a0-bea6-4bbaa513881a",
   "metadata": {},
   "outputs": [
    {
     "ename": "NameError",
     "evalue": "name 'read_sheets' is not defined",
     "output_type": "error",
     "traceback": [
      "\u001b[31m---------------------------------------------------------------------------\u001b[39m",
      "\u001b[31mNameError\u001b[39m                                 Traceback (most recent call last)",
      "\u001b[36mCell\u001b[39m\u001b[36m \u001b[39m\u001b[32mIn[8]\u001b[39m\u001b[32m, line 2\u001b[39m\n\u001b[32m      1\u001b[39m \u001b[38;5;66;03m# Get Household characteristics...\u001b[39;00m\n\u001b[32m----> \u001b[39m\u001b[32m2\u001b[39m z = \u001b[43mget_clean_sheet\u001b[49m\u001b[43m(\u001b[49m\u001b[43mInputFiles\u001b[49m\u001b[43m[\u001b[49m\u001b[33;43m'\u001b[39;49m\u001b[33;43mHousehold Characteristics\u001b[39;49m\u001b[33;43m'\u001b[39;49m\u001b[43m]\u001b[49m\u001b[43m[\u001b[49m\u001b[32;43m0\u001b[39;49m\u001b[43m]\u001b[49m\u001b[43m,\u001b[49m\n\u001b[32m      3\u001b[39m \u001b[43m                    \u001b[49m\u001b[43msheet\u001b[49m\u001b[43m=\u001b[49m\u001b[43mInputFiles\u001b[49m\u001b[43m[\u001b[49m\u001b[33;43m'\u001b[39;49m\u001b[33;43mHousehold Characteristics\u001b[39;49m\u001b[33;43m'\u001b[39;49m\u001b[43m]\u001b[49m\u001b[43m[\u001b[49m\u001b[32;43m1\u001b[39;49m\u001b[43m]\u001b[49m\u001b[43m)\u001b[49m\n\u001b[32m      5\u001b[39m \u001b[38;5;28;01mif\u001b[39;00m \u001b[33m'\u001b[39m\u001b[33mm\u001b[39m\u001b[33m'\u001b[39m \u001b[38;5;129;01mnot\u001b[39;00m \u001b[38;5;129;01min\u001b[39;00m z.columns:\n\u001b[32m      6\u001b[39m     z[\u001b[33m'\u001b[39m\u001b[33mm\u001b[39m\u001b[33m'\u001b[39m] = \u001b[32m1\u001b[39m\n",
      "\u001b[36mCell\u001b[39m\u001b[36m \u001b[39m\u001b[32mIn[5]\u001b[39m\u001b[32m, line 3\u001b[39m, in \u001b[36mget_clean_sheet\u001b[39m\u001b[34m(key, sheet)\u001b[39m\n\u001b[32m      1\u001b[39m \u001b[38;5;28;01mdef\u001b[39;00m\u001b[38;5;250m \u001b[39m\u001b[34mget_clean_sheet\u001b[39m(key,sheet=\u001b[38;5;28;01mNone\u001b[39;00m):\n\u001b[32m----> \u001b[39m\u001b[32m3\u001b[39m     dfs = \u001b[43mread_sheets\u001b[49m(key)\n\u001b[32m      5\u001b[39m     \u001b[38;5;28;01mif\u001b[39;00m sheet \u001b[38;5;129;01mis\u001b[39;00m \u001b[38;5;129;01mnot\u001b[39;00m \u001b[38;5;28;01mNone\u001b[39;00m:\n\u001b[32m      6\u001b[39m         df = dfs[sheet]\n",
      "\u001b[31mNameError\u001b[39m: name 'read_sheets' is not defined"
     ]
    }
   ],
   "source": [
    "# Get Household characteristics...\n",
    "z = get_clean_sheet(InputFiles['Household Characteristics'][0],\n",
    "                    sheet=InputFiles['Household Characteristics'][1])\n",
    "\n",
    "if 'm' not in z.columns:\n",
    "    z['m'] = 1\n",
    "\n",
    "z = z.set_index(['j','t','m'])\n",
    "z.columns.name = 'k'\n",
    "\n",
    "z = z.apply(lambda x: pd.to_numeric(x,errors='coerce'))\n",
    "\n",
    "z"
   ]
  },
  {
   "cell_type": "code",
   "execution_count": null,
   "id": "882fb4b8-5cc7-4447-9da9-4d5677eff9ed",
   "metadata": {},
   "outputs": [],
   "source": [
    "q = get_clean_sheet(InputFiles['Food Prices'][0],\n",
    "                    sheet=InputFiles['Food Prices'][1])\n",
    "\n",
    "if 'm' not in q.columns:\n",
    "    q['m'] = 1\n",
    "\n",
    "q = q.set_index(['j','t','m','u'])\n",
    "q.columns.name = 'i'\n",
    "\n",
    "q = q.apply(lambda x: pd.to_numeric(x,errors='coerce'))\n",
    "q = q.replace(0,np.nan)\n",
    "\n",
    "q"
   ]
  }
 ],
 "metadata": {
  "kernelspec": {
   "display_name": "Python 3 (ipykernel)",
   "language": "python",
   "name": "python3"
  },
  "language_info": {
   "codemirror_mode": {
    "name": "ipython",
    "version": 3
   },
   "file_extension": ".py",
   "mimetype": "text/x-python",
   "name": "python",
   "nbconvert_exporter": "python",
   "pygments_lexer": "ipython3",
   "version": "3.11.11"
  }
 },
 "nbformat": 4,
 "nbformat_minor": 5
}
