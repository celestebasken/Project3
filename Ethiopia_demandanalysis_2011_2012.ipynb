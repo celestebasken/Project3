{
 "cells": [
  {
   "cell_type": "markdown",
   "id": "a0bf53f4-bb96-4a9b-942d-e29626b2b1d0",
   "metadata": {},
   "source": [
    "## Estimation Example\n",
    "\n"
   ]
  },
  {
   "cell_type": "markdown",
   "id": "88320088-2594-409f-84e3-162d6f12f3cf",
   "metadata": {},
   "source": [
    "In this document we&rsquo;ll work through a simple approach to estimating\n",
    "Constant Frisch Elasticity (CFE) demand systems.\n",
    "\n",
    "There are two prerequisites; the first is the `CFEDemands` python\n",
    "module.  You may have this already, but if not it  can be installed with a simple:\n",
    "\n"
   ]
  },
  {
   "cell_type": "code",
   "execution_count": 1,
   "id": "4b97a584-04da-4a84-8ce0-3470435a5437",
   "metadata": {},
   "outputs": [
    {
     "name": "stdout",
     "output_type": "stream",
     "text": [
      "Requirement already satisfied: CFEDemands>=0.6.3.dev0 in /srv/conda/lib/python3.11/site-packages (from -r requirements.txt (line 5)) (0.6.4.dev0)\n",
      "Requirement already satisfied: ConsumerDemands>=0.4.3.dev0 in /srv/conda/lib/python3.11/site-packages (from -r requirements.txt (line 7)) (0.4.3.dev0)\n",
      "Requirement already satisfied: matplotlib>=3.3.4 in /srv/conda/lib/python3.11/site-packages (from -r requirements.txt (line 10)) (3.10.1)\n",
      "Requirement already satisfied: numpy>=1.21.5 in /srv/conda/lib/python3.11/site-packages (from -r requirements.txt (line 14)) (2.2.4)\n",
      "Requirement already satisfied: pandas>=1.3.5 in /srv/conda/lib/python3.11/site-packages (from -r requirements.txt (line 20)) (2.2.3)\n",
      "Requirement already satisfied: plotly>=5.1.0 in /srv/conda/lib/python3.11/site-packages (from -r requirements.txt (line 23)) (6.0.1)\n",
      "Requirement already satisfied: eep153_tools>=0.11 in /srv/conda/lib/python3.11/site-packages (from -r requirements.txt (line 25)) (0.12.4)\n",
      "Requirement already satisfied: python-gnupg in /srv/conda/lib/python3.11/site-packages (from -r requirements.txt (line 26)) (0.5.4)\n",
      "Requirement already satisfied: gspread_pandas>=3.3 in /srv/conda/lib/python3.11/site-packages (from -r requirements.txt (line 28)) (3.3.0)\n",
      "Requirement already satisfied: scikit-learn in /srv/conda/lib/python3.11/site-packages (from -r requirements.txt (line 30)) (1.6.0)\n",
      "Requirement already satisfied: xarray in /srv/conda/lib/python3.11/site-packages (from -r requirements.txt (line 31)) (2025.1.1)\n",
      "Requirement already satisfied: scipy>=1.7.3 in /srv/conda/lib/python3.11/site-packages (from CFEDemands>=0.6.3.dev0->-r requirements.txt (line 5)) (1.14.1)\n",
      "Requirement already satisfied: importlib_metadata>=6.7.0 in /srv/conda/lib/python3.11/site-packages (from CFEDemands>=0.6.3.dev0->-r requirements.txt (line 5)) (8.6.1)\n",
      "Requirement already satisfied: fsspec in /srv/conda/lib/python3.11/site-packages (from CFEDemands>=0.6.3.dev0->-r requirements.txt (line 5)) (2025.3.2)\n",
      "Requirement already satisfied: contourpy>=1.0.1 in /srv/conda/lib/python3.11/site-packages (from matplotlib>=3.3.4->-r requirements.txt (line 10)) (1.3.1)\n",
      "Requirement already satisfied: cycler>=0.10 in /srv/conda/lib/python3.11/site-packages (from matplotlib>=3.3.4->-r requirements.txt (line 10)) (0.12.1)\n",
      "Requirement already satisfied: fonttools>=4.22.0 in /srv/conda/lib/python3.11/site-packages (from matplotlib>=3.3.4->-r requirements.txt (line 10)) (4.56.0)\n",
      "Requirement already satisfied: kiwisolver>=1.3.1 in /srv/conda/lib/python3.11/site-packages (from matplotlib>=3.3.4->-r requirements.txt (line 10)) (1.4.7)\n",
      "Requirement already satisfied: packaging>=20.0 in /srv/conda/lib/python3.11/site-packages (from matplotlib>=3.3.4->-r requirements.txt (line 10)) (24.2)\n",
      "Requirement already satisfied: pillow>=8 in /srv/conda/lib/python3.11/site-packages (from matplotlib>=3.3.4->-r requirements.txt (line 10)) (11.1.0)\n",
      "Requirement already satisfied: pyparsing>=2.3.1 in /srv/conda/lib/python3.11/site-packages (from matplotlib>=3.3.4->-r requirements.txt (line 10)) (3.2.3)\n",
      "Requirement already satisfied: python-dateutil>=2.7 in /srv/conda/lib/python3.11/site-packages (from matplotlib>=3.3.4->-r requirements.txt (line 10)) (2.9.0.post0)\n",
      "Requirement already satisfied: pytz>=2020.1 in /srv/conda/lib/python3.11/site-packages (from pandas>=1.3.5->-r requirements.txt (line 20)) (2024.1)\n",
      "Requirement already satisfied: tzdata>=2022.7 in /srv/conda/lib/python3.11/site-packages (from pandas>=1.3.5->-r requirements.txt (line 20)) (2025.2)\n",
      "Requirement already satisfied: narwhals>=1.15.1 in /srv/conda/lib/python3.11/site-packages (from plotly>=5.1.0->-r requirements.txt (line 23)) (1.33.0)\n",
      "Requirement already satisfied: gspread<6,>=5.0.0 in /srv/conda/lib/python3.11/site-packages (from gspread_pandas>=3.3->-r requirements.txt (line 28)) (5.12.4)\n",
      "Requirement already satisfied: decorator in /srv/conda/lib/python3.11/site-packages (from gspread_pandas>=3.3->-r requirements.txt (line 28)) (5.1.1)\n",
      "Requirement already satisfied: google-auth in /srv/conda/lib/python3.11/site-packages (from gspread_pandas>=3.3->-r requirements.txt (line 28)) (2.38.0)\n",
      "Requirement already satisfied: google-auth-oauthlib in /srv/conda/lib/python3.11/site-packages (from gspread_pandas>=3.3->-r requirements.txt (line 28)) (1.2.1)\n",
      "Requirement already satisfied: joblib>=1.2.0 in /srv/conda/lib/python3.11/site-packages (from scikit-learn->-r requirements.txt (line 30)) (1.4.2)\n",
      "Requirement already satisfied: threadpoolctl>=3.1.0 in /srv/conda/lib/python3.11/site-packages (from scikit-learn->-r requirements.txt (line 30)) (3.6.0)\n",
      "Requirement already satisfied: cachetools<6.0,>=2.0.0 in /srv/conda/lib/python3.11/site-packages (from google-auth->gspread_pandas>=3.3->-r requirements.txt (line 28)) (5.5.2)\n",
      "Requirement already satisfied: pyasn1-modules>=0.2.1 in /srv/conda/lib/python3.11/site-packages (from google-auth->gspread_pandas>=3.3->-r requirements.txt (line 28)) (0.4.2)\n",
      "Requirement already satisfied: rsa<5,>=3.1.4 in /srv/conda/lib/python3.11/site-packages (from google-auth->gspread_pandas>=3.3->-r requirements.txt (line 28)) (4.9)\n",
      "Requirement already satisfied: requests-oauthlib>=0.7.0 in /srv/conda/lib/python3.11/site-packages (from google-auth-oauthlib->gspread_pandas>=3.3->-r requirements.txt (line 28)) (2.0.0)\n",
      "Requirement already satisfied: zipp>=3.20 in /srv/conda/lib/python3.11/site-packages (from importlib_metadata>=6.7.0->CFEDemands>=0.6.3.dev0->-r requirements.txt (line 5)) (3.21.0)\n",
      "Requirement already satisfied: six>=1.5 in /srv/conda/lib/python3.11/site-packages (from python-dateutil>=2.7->matplotlib>=3.3.4->-r requirements.txt (line 10)) (1.17.0)\n",
      "Requirement already satisfied: pyasn1<0.7.0,>=0.6.1 in /srv/conda/lib/python3.11/site-packages (from pyasn1-modules>=0.2.1->google-auth->gspread_pandas>=3.3->-r requirements.txt (line 28)) (0.6.1)\n",
      "Requirement already satisfied: oauthlib>=3.0.0 in /srv/conda/lib/python3.11/site-packages (from requests-oauthlib>=0.7.0->google-auth-oauthlib->gspread_pandas>=3.3->-r requirements.txt (line 28)) (3.2.2)\n",
      "Requirement already satisfied: requests>=2.0.0 in /srv/conda/lib/python3.11/site-packages (from requests-oauthlib>=0.7.0->google-auth-oauthlib->gspread_pandas>=3.3->-r requirements.txt (line 28)) (2.32.3)\n",
      "Requirement already satisfied: charset_normalizer<4,>=2 in /srv/conda/lib/python3.11/site-packages (from requests>=2.0.0->requests-oauthlib>=0.7.0->google-auth-oauthlib->gspread_pandas>=3.3->-r requirements.txt (line 28)) (3.4.0)\n",
      "Requirement already satisfied: idna<4,>=2.5 in /srv/conda/lib/python3.11/site-packages (from requests>=2.0.0->requests-oauthlib>=0.7.0->google-auth-oauthlib->gspread_pandas>=3.3->-r requirements.txt (line 28)) (3.10)\n",
      "Requirement already satisfied: urllib3<3,>=1.21.1 in /srv/conda/lib/python3.11/site-packages (from requests>=2.0.0->requests-oauthlib>=0.7.0->google-auth-oauthlib->gspread_pandas>=3.3->-r requirements.txt (line 28)) (2.3.0)\n",
      "Requirement already satisfied: certifi>=2017.4.17 in /srv/conda/lib/python3.11/site-packages (from requests>=2.0.0->requests-oauthlib>=0.7.0->google-auth-oauthlib->gspread_pandas>=3.3->-r requirements.txt (line 28)) (2025.1.31)\n"
     ]
    }
   ],
   "source": [
    "!pip install -r requirements.txt"
   ]
  },
  {
   "cell_type": "markdown",
   "id": "f0f8f2c5-fe1c-4a88-bb4b-f0162ec3c3c5",
   "metadata": {},
   "source": [
    "The second prerequisite is a dataset including detailed information on\n",
    "household expenditures and characteristics.  The structure of that\n",
    "dataset is detailed in the next section.\n",
    "\n"
   ]
  },
  {
   "cell_type": "markdown",
   "id": "f83a2186-f5e8-474b-a9b0-a8d8f1ab6b30",
   "metadata": {},
   "source": [
    "### Data\n",
    "\n"
   ]
  },
  {
   "cell_type": "markdown",
   "id": "602db411-430c-4fd8-9083-5512517b504a",
   "metadata": {},
   "source": [
    "Consider the case in which the data are saved in a google sheet; we&rsquo;ll\n",
    "turn data from these into `pandas` dataframes.\n",
    "There are limits on the allowable size of google sheets (5 million\n",
    "cells when I last checked), so if your dataset is larger than this you&rsquo;ll need some other\n",
    "mechanism to get your data into such dataframes.  Even in this latter\n",
    "case you&rsquo;ll want your dataframes to have a structure that matches the\n",
    "description given below.\n",
    "\n"
   ]
  },
  {
   "cell_type": "markdown",
   "id": "105eeb4b-0f06-46d5-9d6f-89af16593f84",
   "metadata": {},
   "source": [
    "#### Structure of the Spreadsheet\n",
    "\n"
   ]
  },
  {
   "cell_type": "markdown",
   "id": "2bc3e216-6466-4da6-9c54-b6e66e435e65",
   "metadata": {},
   "source": [
    "An example spreadsheet with data for Uganda can be found at\n",
    "[https://docs.google.com/spreadsheets/d/1yFWlP5N7Aowaj6t2roRSFFUC50aFD-RLBGfzGtqLl0w/](https://docs.google.com/spreadsheets/d/1yFWlP5N7Aowaj6t2roRSFFUC50aFD-RLBGfzGtqLl0w/)\n",
    "\n",
    "This spreadsheet consists of several worksheets, labeled &ldquo;RDI&rdquo;, &ldquo;FCT&rdquo;,\n",
    "&ldquo;Household Characteristics&rdquo;, and a series of different years of food expenditures and prices\n",
    "\n",
    "Most worksheets have the initial three columns labeled &ldquo;i&rdquo;, &ldquo;t&rdquo;, and\n",
    "&ldquo;m&rdquo;; together these identify an observation uniquely.  The column &ldquo;i&rdquo;\n",
    "should include a household id; the column &ldquo;t&rdquo; should include an\n",
    "indicator for the year or period (for those of you with\n",
    "cross-sectional data these will all take a common value, e.g., 2019);\n",
    "the column &ldquo;m&rdquo; should be an indicator of &ldquo;market&rdquo;, which may be a\n",
    "region identifier, or may take a single value (e.g., &ldquo;Uganda&rdquo;).\n",
    "\n",
    "The triple (i,t,m) will serve as the index of some constructed\n",
    "dataframes.  It is important not to have **too** many different values\n",
    "for &ldquo;m&rdquo; (unless you have lots of data and RAM to play with).\n",
    "\n",
    "Beyond the first three columns, the &ldquo;Expenditures&rdquo; worksheet for a given year should have one index (or alternatively, one column) for each category of expenditures (e.g., &ldquo;Beans&rdquo;, &ldquo;Beef&rdquo;, &ldquo;Beer&rdquo;,&#x2026;).\n",
    "\n",
    "Beyond the first three columns, the &ldquo;Household Characteristics&rdquo; should\n",
    "have columns corresponding to different elements of the vector of\n",
    "observable characteristics $z$.  If the data permit, I recommend\n",
    "constructing observables that match what I have in these data:\n",
    "namely numbers of different children by age and sex, along with the\n",
    "logarithm of total household size (&ldquo;log HSize&rdquo;).\n",
    "\n"
   ]
  },
  {
   "cell_type": "markdown",
   "id": "ae08f41f-ee1a-4e6a-b00d-50345e581276",
   "metadata": {},
   "source": [
    "#### From Sheet to DataFrame to Regression Object\n",
    "\n"
   ]
  },
  {
   "cell_type": "markdown",
   "id": "f4e3b423-609a-4977-9783-689fa3be0cb9",
   "metadata": {},
   "source": [
    "We begin by defining a dictionary that contains the spreadsheet key.\n",
    "One is provided for the Ugandan example that I wish to work\n",
    "through.\n",
    "\n"
   ]
  },
  {
   "cell_type": "code",
   "execution_count": 2,
   "id": "41e69f09-5ced-4af5-8e1f-ee0c04c83fb0",
   "metadata": {},
   "outputs": [],
   "source": [
    "Ethiopia = '1qOZi1FqAS89x461pCIgwRaAfpBw5aUp7kBbp0tQKI_E'\n"
   ]
  },
  {
   "cell_type": "markdown",
   "id": "49ec52af-1532-4c57-8f70-a166fe4340bd",
   "metadata": {},
   "source": [
    "With the spreadsheet defined , grab it and define a couple of\n",
    "dataframes. (Sheets should be shared with `students@eep153.iam.gserviceaccount.com`):\n",
    "\n"
   ]
  },
  {
   "cell_type": "code",
   "execution_count": 3,
   "id": "3f742834-5b16-48af-a54a-09b97436c80c",
   "metadata": {},
   "outputs": [],
   "source": [
    "import pandas as pd\n",
    "import numpy as np\n",
    "from eep153_tools.sheets import read_sheets\n",
    "\n",
    "# Change 'Uganda_Data' to key of your own sheet in Sheets, above\n",
    "x = read_sheets(Ethiopia,sheet='Food Expenditures (2011-12)')\n",
    "x['i'] = x['i'].astype(str)\n",
    "x = x.set_index(['i','t','m','j']).squeeze()\n",
    "\n",
    "\n",
    "# Now prices\n",
    "p = read_sheets(Ethiopia,sheet='Food Prices (2011-12)').set_index(['t','m','j','u'])\n",
    "\n",
    "# Compute medians of prices for particular time, place and unit\n",
    "p = p.groupby(['t','m','j','u']).median()\n",
    "\n",
    "# Just keep metric units\n",
    "p = p.xs('Kg',level=\"u\").squeeze().unstack('j')\n",
    "\n",
    "# Drop prices for goods we don't have expenditures for\n",
    "p = p[x.index.levels[-1]].T\n",
    "\n",
    "# Household characteristics\n",
    "d = read_sheets(Ethiopia,sheet=\"Household Characteristics\")\n",
    "d.columns.name = 'k'\n",
    "\n",
    "# Fill blanks with zeros\n",
    "d = d.replace(np.nan,0)\n",
    "\n",
    "# Expenditures x may have duplicate columns\n",
    "x = x.T.groupby(['i','t','m','j']).sum()\n",
    "x = x.replace(0,np.nan) # Replace zeros with missing\n",
    "\n",
    "# Take logs of expenditures; call this y\n",
    "y = np.log(x)\n",
    "\n",
    "d.set_index(['i','t','m'],inplace=True)"
   ]
  },
  {
   "cell_type": "markdown",
   "id": "5b2ac3b1-767a-446e-8fa3-509eb62e77c0",
   "metadata": {},
   "source": [
    "This gives a dataframe of household characteristics $d$ with a simple structure.\n",
    "\n"
   ]
  },
  {
   "cell_type": "markdown",
   "id": "18e36440-0a77-44d2-ac47-d9f86b07db35",
   "metadata": {},
   "source": [
    "### Estimation\n",
    "\n"
   ]
  },
  {
   "cell_type": "markdown",
   "id": "0c1b77b1-7d3e-4889-8a79-1870b7d22d21",
   "metadata": {},
   "source": [
    "Let $y_{i}^j$ be log expenditures on food $j$ by household $i$ at a particular time.  We want to estimate a regression that takes the form\n",
    "$$\n",
    "      y^j_{i} = A^j(p) + \\gamma_j'd_i + \\beta_j w_i + \\zeta^j_i.\n",
    "$$\n",
    "We have data on `y` (log expenditures) and `d` (household characteristics).  This leaves the rest of the elements for us to estimate.\n",
    "\n"
   ]
  },
  {
   "cell_type": "markdown",
   "id": "b67dabcb-756f-4a2f-b805-5dc2cdb49779",
   "metadata": {},
   "source": [
    "#### Basic Estimation\n",
    "\n"
   ]
  },
  {
   "cell_type": "markdown",
   "id": "ba86e082-6f54-4c0a-9ea3-28cb75fc2c23",
   "metadata": {},
   "source": [
    "Just one line to set up the regression:\n",
    "\n"
   ]
  },
  {
   "cell_type": "code",
   "execution_count": 4,
   "id": "a0b95f51-fa57-495a-8359-7c2d1f0b3e62",
   "metadata": {},
   "outputs": [],
   "source": [
    "from cfe import Regression\n",
    "import cfe\n",
    "result = Regression(y=y,d=d)"
   ]
  },
  {
   "cell_type": "markdown",
   "id": "eddaaaf4-7581-42a3-bc83-5be8e24b8c30",
   "metadata": {},
   "source": [
    "And then one line to predict expenditures and estimate most of the things we need:\n",
    "\n"
   ]
  },
  {
   "cell_type": "code",
   "execution_count": 5,
   "id": "38a6c3fc-8f27-4973-a5c5-e106b5f57140",
   "metadata": {},
   "outputs": [
    {
     "data": {
      "text/plain": [
       "i              t        m       j        \n",
       "1010101601002  2011-12  Tigray  Banana        11.652049\n",
       "                                Chat/Kat     108.598175\n",
       "                                Coffee        33.892525\n",
       "                                Eggs          13.791468\n",
       "                                Field Pea     23.083281\n",
       "                                                ...    \n",
       "7210106202195  2011-12  SNNP    Salt           3.421438\n",
       "                                Sorghum       30.428765\n",
       "                                Sugar         18.850554\n",
       "                                Teff          79.497424\n",
       "                                Wheat         43.932792\n",
       "Length: 47055, dtype: float64"
      ]
     },
     "execution_count": 5,
     "metadata": {},
     "output_type": "execute_result"
    }
   ],
   "source": [
    "result.predicted_expenditures()"
   ]
  },
  {
   "cell_type": "markdown",
   "id": "ca8fdc86-fdc3-45c2-9690-1bdf43013bb5",
   "metadata": {},
   "source": [
    "Now we can compare predicted log expenditures with actual:\n",
    "\n"
   ]
  },
  {
   "cell_type": "code",
   "execution_count": 6,
   "id": "4949cde1-d85b-46d0-98c3-b86696f62729",
   "metadata": {},
   "outputs": [
    {
     "data": {
      "text/plain": [
       "<Axes: xlabel='yhat', ylabel='y'>"
      ]
     },
     "execution_count": 6,
     "metadata": {},
     "output_type": "execute_result"
    },
    {
     "data": {
      "image/png": "[encoded data removed]",
      "text/plain": [
       "<Figure size 640x480 with 1 Axes>"
      ]
     },
     "metadata": {},
     "output_type": "display_data"
    }
   ],
   "source": [
    "%matplotlib inline\n",
    "df = pd.DataFrame({'y':y,'yhat':result.get_predicted_log_expenditures()})\n",
    "df.plot.scatter(x='yhat',y='y')"
   ]
  },
  {
   "cell_type": "markdown",
   "id": "c3fd88cc-1965-44f1-8dcb-31d611bc1b4e",
   "metadata": {},
   "source": [
    "That&rsquo;s all there is to estimation!  Note that we didn&rsquo;t estimate\n",
    "demands for all goods&#x2014;lots of goods didn&rsquo;t have enough observations,\n",
    "and were automatically dropped.\n",
    "\n"
   ]
  },
  {
   "cell_type": "markdown",
   "id": "7b59dc6b-76eb-4a4c-a12e-5e1c0179539a",
   "metadata": {},
   "source": [
    "#### Parameters\n",
    "\n"
   ]
  },
  {
   "cell_type": "markdown",
   "id": "64c42faa-851a-45f0-b7f1-9bd34ce7e50e",
   "metadata": {},
   "source": [
    "##### (Relative) Income Elasticity\n",
    "\n"
   ]
  },
  {
   "cell_type": "markdown",
   "id": "46eb40f3-1a0c-438b-b9c2-252ddc87c471",
   "metadata": {},
   "source": [
    "Some of the parameters have an interesting interpretation.  First among these are the $\\beta$ coefficients, which govern how *income elastic* different goods are (higher values means more elastic).  These are also called *Frisch elasticities*.\n",
    "Here we use a plot to visualize, with confidence intervals.\n",
    "\n"
   ]
  },
  {
   "cell_type": "code",
   "execution_count": 7,
   "id": "2155be59-89ee-4e37-8b88-729870e58a14",
   "metadata": {},
   "outputs": [
    {
     "data": {
      "image/png": "[encoded data removed]",
      "text/plain": [
       "<Figure size 800x314.286 with 1 Axes>"
      ]
     },
     "metadata": {},
     "output_type": "display_data"
    }
   ],
   "source": [
    "ax = result.graph_beta()"
   ]
  },
  {
   "cell_type": "markdown",
   "id": "2dd85aa5-b1c6-4859-a077-67ac0fc05b50",
   "metadata": {},
   "source": [
    "To just see the values of $\\beta$:\n",
    "\n"
   ]
  },
  {
   "cell_type": "code",
   "execution_count": 8,
   "id": "88e291d7-11f4-43b2-8f6c-1fd8ced0cf94",
   "metadata": {},
   "outputs": [
    {
     "data": {
      "text/plain": [
       "j\n",
       "Banana       0.527397\n",
       "Chat/Kat     0.459318\n",
       "Coffee       0.539258\n",
       "Eggs         0.275389\n",
       "Field Pea    0.425250\n",
       "Maize        0.677973\n",
       "Meat         0.440854\n",
       "Milk         0.286823\n",
       "Onion        0.510546\n",
       "Potato       0.336244\n",
       "Salt         0.228052\n",
       "Sorghum      0.377076\n",
       "Sugar        0.492017\n",
       "Teff         0.567075\n",
       "Wheat        0.631319\n",
       "Name: beta, dtype: float64"
      ]
     },
     "execution_count": 8,
     "metadata": {},
     "output_type": "execute_result"
    }
   ],
   "source": [
    "result.get_beta()"
   ]
  },
  {
   "cell_type": "markdown",
   "id": "44db9cbc-1322-446a-8aa7-432775f6cd07",
   "metadata": {},
   "source": [
    "##### Demand and Household Composition\n",
    "\n"
   ]
  },
  {
   "cell_type": "markdown",
   "id": "80d4bd7c-643d-4956-954e-0386ea36c01e",
   "metadata": {},
   "source": [
    "We&rsquo;re particularly interested in the effects of household composition on demand.  These are captured by the $\\gamma_j$ parameters in the regression.\n",
    "\n"
   ]
  },
  {
   "cell_type": "code",
   "execution_count": 9,
   "id": "f47f950b-c40b-4d05-acb6-61c21c075006",
   "metadata": {},
   "outputs": [
    {
     "data": {
      "text/html": [
       "<div>\n",
       "<style scoped>\n",
       "    .dataframe tbody tr th:only-of-type {\n",
       "        vertical-align: middle;\n",
       "    }\n",
       "\n",
       "    .dataframe tbody tr th {\n",
       "        vertical-align: top;\n",
       "    }\n",
       "\n",
       "    .dataframe thead th {\n",
       "        text-align: right;\n",
       "    }\n",
       "</style>\n",
       "<table border=\"1\" class=\"dataframe\">\n",
       "  <thead>\n",
       "    <tr style=\"text-align: right;\">\n",
       "      <th>k</th>\n",
       "      <th>Females 00-03</th>\n",
       "      <th>Females 04-08</th>\n",
       "      <th>Females 09-13</th>\n",
       "      <th>Females 14-18</th>\n",
       "      <th>Females 19-30</th>\n",
       "      <th>Females 31-50</th>\n",
       "      <th>Females 51-99</th>\n",
       "      <th>Males 00-03</th>\n",
       "      <th>Males 04-08</th>\n",
       "      <th>Males 09-13</th>\n",
       "      <th>Males 14-18</th>\n",
       "      <th>Males 19-30</th>\n",
       "      <th>Males 31-50</th>\n",
       "      <th>Males 51-99</th>\n",
       "      <th>log HSize</th>\n",
       "      <th>Constant</th>\n",
       "    </tr>\n",
       "    <tr>\n",
       "      <th>j</th>\n",
       "      <th></th>\n",
       "      <th></th>\n",
       "      <th></th>\n",
       "      <th></th>\n",
       "      <th></th>\n",
       "      <th></th>\n",
       "      <th></th>\n",
       "      <th></th>\n",
       "      <th></th>\n",
       "      <th></th>\n",
       "      <th></th>\n",
       "      <th></th>\n",
       "      <th></th>\n",
       "      <th></th>\n",
       "      <th></th>\n",
       "      <th></th>\n",
       "    </tr>\n",
       "  </thead>\n",
       "  <tbody>\n",
       "    <tr>\n",
       "      <th>Banana</th>\n",
       "      <td>0.0</td>\n",
       "      <td>-0.187668</td>\n",
       "      <td>-0.100071</td>\n",
       "      <td>0.090233</td>\n",
       "      <td>0.056032</td>\n",
       "      <td>-0.008031</td>\n",
       "      <td>0.031665</td>\n",
       "      <td>0.000000e+00</td>\n",
       "      <td>-0.031110</td>\n",
       "      <td>-0.084917</td>\n",
       "      <td>0.128403</td>\n",
       "      <td>-0.014851</td>\n",
       "      <td>0.256981</td>\n",
       "      <td>-0.058693</td>\n",
       "      <td>0.153501</td>\n",
       "      <td>1.660771</td>\n",
       "    </tr>\n",
       "    <tr>\n",
       "      <th>Chat/Kat</th>\n",
       "      <td>0.0</td>\n",
       "      <td>0.114105</td>\n",
       "      <td>0.223379</td>\n",
       "      <td>0.171073</td>\n",
       "      <td>0.230958</td>\n",
       "      <td>-0.037930</td>\n",
       "      <td>-0.013608</td>\n",
       "      <td>1.387779e-16</td>\n",
       "      <td>0.131043</td>\n",
       "      <td>-0.038674</td>\n",
       "      <td>-0.005534</td>\n",
       "      <td>0.208971</td>\n",
       "      <td>0.218307</td>\n",
       "      <td>0.171386</td>\n",
       "      <td>-0.208233</td>\n",
       "      <td>4.065754</td>\n",
       "    </tr>\n",
       "    <tr>\n",
       "      <th>Coffee</th>\n",
       "      <td>0.0</td>\n",
       "      <td>-0.095061</td>\n",
       "      <td>0.030181</td>\n",
       "      <td>0.067874</td>\n",
       "      <td>0.091498</td>\n",
       "      <td>0.043649</td>\n",
       "      <td>-0.030338</td>\n",
       "      <td>-1.040834e-17</td>\n",
       "      <td>0.030059</td>\n",
       "      <td>-0.024694</td>\n",
       "      <td>0.056096</td>\n",
       "      <td>-0.044672</td>\n",
       "      <td>0.112013</td>\n",
       "      <td>0.128804</td>\n",
       "      <td>0.100772</td>\n",
       "      <td>3.010327</td>\n",
       "    </tr>\n",
       "    <tr>\n",
       "      <th>Eggs</th>\n",
       "      <td>0.0</td>\n",
       "      <td>-0.135197</td>\n",
       "      <td>0.051003</td>\n",
       "      <td>-0.108898</td>\n",
       "      <td>-0.162369</td>\n",
       "      <td>-0.385708</td>\n",
       "      <td>-0.031202</td>\n",
       "      <td>-2.636780e-16</td>\n",
       "      <td>-0.229090</td>\n",
       "      <td>-0.154319</td>\n",
       "      <td>-0.035864</td>\n",
       "      <td>-0.046280</td>\n",
       "      <td>-0.043725</td>\n",
       "      <td>0.314028</td>\n",
       "      <td>0.456668</td>\n",
       "      <td>2.597646</td>\n",
       "    </tr>\n",
       "    <tr>\n",
       "      <th>Field Pea</th>\n",
       "      <td>0.0</td>\n",
       "      <td>-0.027090</td>\n",
       "      <td>0.065446</td>\n",
       "      <td>0.128661</td>\n",
       "      <td>0.063450</td>\n",
       "      <td>0.092961</td>\n",
       "      <td>0.029228</td>\n",
       "      <td>-3.469447e-17</td>\n",
       "      <td>0.033676</td>\n",
       "      <td>-0.001475</td>\n",
       "      <td>0.037698</td>\n",
       "      <td>0.015677</td>\n",
       "      <td>0.138646</td>\n",
       "      <td>0.091073</td>\n",
       "      <td>0.105354</td>\n",
       "      <td>2.616577</td>\n",
       "    </tr>\n",
       "    <tr>\n",
       "      <th>Maize</th>\n",
       "      <td>0.0</td>\n",
       "      <td>0.040513</td>\n",
       "      <td>-0.108505</td>\n",
       "      <td>-0.040537</td>\n",
       "      <td>0.047248</td>\n",
       "      <td>0.034737</td>\n",
       "      <td>-0.117032</td>\n",
       "      <td>1.110223e-16</td>\n",
       "      <td>0.052307</td>\n",
       "      <td>0.020724</td>\n",
       "      <td>0.067978</td>\n",
       "      <td>0.125592</td>\n",
       "      <td>0.106950</td>\n",
       "      <td>0.052652</td>\n",
       "      <td>0.517483</td>\n",
       "      <td>3.283636</td>\n",
       "    </tr>\n",
       "    <tr>\n",
       "      <th>Meat</th>\n",
       "      <td>0.0</td>\n",
       "      <td>0.015928</td>\n",
       "      <td>-0.063100</td>\n",
       "      <td>-0.000436</td>\n",
       "      <td>0.219935</td>\n",
       "      <td>0.146714</td>\n",
       "      <td>0.053513</td>\n",
       "      <td>-9.714451e-17</td>\n",
       "      <td>-0.047305</td>\n",
       "      <td>-0.019730</td>\n",
       "      <td>-0.045161</td>\n",
       "      <td>0.085102</td>\n",
       "      <td>0.081780</td>\n",
       "      <td>0.141392</td>\n",
       "      <td>0.255197</td>\n",
       "      <td>4.123313</td>\n",
       "    </tr>\n",
       "    <tr>\n",
       "      <th>Milk</th>\n",
       "      <td>0.0</td>\n",
       "      <td>0.109656</td>\n",
       "      <td>-0.281795</td>\n",
       "      <td>0.174924</td>\n",
       "      <td>0.037198</td>\n",
       "      <td>0.065459</td>\n",
       "      <td>-0.191205</td>\n",
       "      <td>-1.734723e-16</td>\n",
       "      <td>0.159276</td>\n",
       "      <td>-0.074930</td>\n",
       "      <td>0.164176</td>\n",
       "      <td>-0.133215</td>\n",
       "      <td>0.020331</td>\n",
       "      <td>0.327841</td>\n",
       "      <td>0.124497</td>\n",
       "      <td>3.022665</td>\n",
       "    </tr>\n",
       "    <tr>\n",
       "      <th>Onion</th>\n",
       "      <td>0.0</td>\n",
       "      <td>-0.011914</td>\n",
       "      <td>-0.005323</td>\n",
       "      <td>0.123480</td>\n",
       "      <td>0.145716</td>\n",
       "      <td>-0.050792</td>\n",
       "      <td>-0.140016</td>\n",
       "      <td>1.387779e-17</td>\n",
       "      <td>-0.020367</td>\n",
       "      <td>-0.006574</td>\n",
       "      <td>0.126977</td>\n",
       "      <td>0.050706</td>\n",
       "      <td>0.087002</td>\n",
       "      <td>0.080192</td>\n",
       "      <td>0.048994</td>\n",
       "      <td>2.063841</td>\n",
       "    </tr>\n",
       "    <tr>\n",
       "      <th>Potato</th>\n",
       "      <td>0.0</td>\n",
       "      <td>0.040471</td>\n",
       "      <td>0.016242</td>\n",
       "      <td>0.107114</td>\n",
       "      <td>0.112894</td>\n",
       "      <td>-0.036197</td>\n",
       "      <td>-0.058681</td>\n",
       "      <td>-2.081668e-17</td>\n",
       "      <td>-0.003599</td>\n",
       "      <td>-0.010556</td>\n",
       "      <td>0.073001</td>\n",
       "      <td>0.026311</td>\n",
       "      <td>0.094370</td>\n",
       "      <td>-0.002433</td>\n",
       "      <td>0.162460</td>\n",
       "      <td>2.057030</td>\n",
       "    </tr>\n",
       "    <tr>\n",
       "      <th>Salt</th>\n",
       "      <td>0.0</td>\n",
       "      <td>0.019266</td>\n",
       "      <td>0.103250</td>\n",
       "      <td>0.051195</td>\n",
       "      <td>0.092457</td>\n",
       "      <td>0.048044</td>\n",
       "      <td>-0.024711</td>\n",
       "      <td>-3.989864e-17</td>\n",
       "      <td>0.040005</td>\n",
       "      <td>-0.001038</td>\n",
       "      <td>-0.003824</td>\n",
       "      <td>0.068594</td>\n",
       "      <td>0.072404</td>\n",
       "      <td>0.107422</td>\n",
       "      <td>0.153109</td>\n",
       "      <td>0.678936</td>\n",
       "    </tr>\n",
       "    <tr>\n",
       "      <th>Sorghum</th>\n",
       "      <td>0.0</td>\n",
       "      <td>0.078580</td>\n",
       "      <td>0.111735</td>\n",
       "      <td>-0.020973</td>\n",
       "      <td>0.129586</td>\n",
       "      <td>0.182531</td>\n",
       "      <td>-0.089006</td>\n",
       "      <td>-4.510281e-17</td>\n",
       "      <td>0.093063</td>\n",
       "      <td>0.070401</td>\n",
       "      <td>0.052524</td>\n",
       "      <td>0.021400</td>\n",
       "      <td>0.020434</td>\n",
       "      <td>0.152913</td>\n",
       "      <td>0.225205</td>\n",
       "      <td>3.201741</td>\n",
       "    </tr>\n",
       "    <tr>\n",
       "      <th>Sugar</th>\n",
       "      <td>0.0</td>\n",
       "      <td>0.088702</td>\n",
       "      <td>0.022680</td>\n",
       "      <td>0.049459</td>\n",
       "      <td>0.092819</td>\n",
       "      <td>0.049174</td>\n",
       "      <td>0.030659</td>\n",
       "      <td>-4.336809e-18</td>\n",
       "      <td>0.127481</td>\n",
       "      <td>0.031925</td>\n",
       "      <td>0.035574</td>\n",
       "      <td>0.041730</td>\n",
       "      <td>0.033213</td>\n",
       "      <td>0.005023</td>\n",
       "      <td>0.091890</td>\n",
       "      <td>2.596894</td>\n",
       "    </tr>\n",
       "    <tr>\n",
       "      <th>Teff</th>\n",
       "      <td>0.0</td>\n",
       "      <td>-0.056783</td>\n",
       "      <td>0.021935</td>\n",
       "      <td>-0.003179</td>\n",
       "      <td>0.082895</td>\n",
       "      <td>0.119548</td>\n",
       "      <td>-0.108560</td>\n",
       "      <td>2.775558e-17</td>\n",
       "      <td>-0.138238</td>\n",
       "      <td>0.132421</td>\n",
       "      <td>0.033837</td>\n",
       "      <td>0.184714</td>\n",
       "      <td>0.234564</td>\n",
       "      <td>0.072284</td>\n",
       "      <td>0.341161</td>\n",
       "      <td>3.945182</td>\n",
       "    </tr>\n",
       "    <tr>\n",
       "      <th>Wheat</th>\n",
       "      <td>0.0</td>\n",
       "      <td>0.071808</td>\n",
       "      <td>-0.004149</td>\n",
       "      <td>0.096911</td>\n",
       "      <td>-0.058856</td>\n",
       "      <td>-0.077084</td>\n",
       "      <td>0.021399</td>\n",
       "      <td>-1.110223e-16</td>\n",
       "      <td>0.043734</td>\n",
       "      <td>0.039317</td>\n",
       "      <td>0.178336</td>\n",
       "      <td>0.014301</td>\n",
       "      <td>0.059438</td>\n",
       "      <td>0.098576</td>\n",
       "      <td>0.405590</td>\n",
       "      <td>3.589571</td>\n",
       "    </tr>\n",
       "  </tbody>\n",
       "</table>\n",
       "</div>"
      ],
      "text/plain": [
       "k          Females 00-03  Females 04-08  Females 09-13  Females 14-18  \\\n",
       "j                                                                       \n",
       "Banana               0.0      -0.187668      -0.100071       0.090233   \n",
       "Chat/Kat             0.0       0.114105       0.223379       0.171073   \n",
       "Coffee               0.0      -0.095061       0.030181       0.067874   \n",
       "Eggs                 0.0      -0.135197       0.051003      -0.108898   \n",
       "Field Pea            0.0      -0.027090       0.065446       0.128661   \n",
       "Maize                0.0       0.040513      -0.108505      -0.040537   \n",
       "Meat                 0.0       0.015928      -0.063100      -0.000436   \n",
       "Milk                 0.0       0.109656      -0.281795       0.174924   \n",
       "Onion                0.0      -0.011914      -0.005323       0.123480   \n",
       "Potato               0.0       0.040471       0.016242       0.107114   \n",
       "Salt                 0.0       0.019266       0.103250       0.051195   \n",
       "Sorghum              0.0       0.078580       0.111735      -0.020973   \n",
       "Sugar                0.0       0.088702       0.022680       0.049459   \n",
       "Teff                 0.0      -0.056783       0.021935      -0.003179   \n",
       "Wheat                0.0       0.071808      -0.004149       0.096911   \n",
       "\n",
       "k          Females 19-30  Females 31-50  Females 51-99   Males 00-03  \\\n",
       "j                                                                      \n",
       "Banana          0.056032      -0.008031       0.031665  0.000000e+00   \n",
       "Chat/Kat        0.230958      -0.037930      -0.013608  1.387779e-16   \n",
       "Coffee          0.091498       0.043649      -0.030338 -1.040834e-17   \n",
       "Eggs           -0.162369      -0.385708      -0.031202 -2.636780e-16   \n",
       "Field Pea       0.063450       0.092961       0.029228 -3.469447e-17   \n",
       "Maize           0.047248       0.034737      -0.117032  1.110223e-16   \n",
       "Meat            0.219935       0.146714       0.053513 -9.714451e-17   \n",
       "Milk            0.037198       0.065459      -0.191205 -1.734723e-16   \n",
       "Onion           0.145716      -0.050792      -0.140016  1.387779e-17   \n",
       "Potato          0.112894      -0.036197      -0.058681 -2.081668e-17   \n",
       "Salt            0.092457       0.048044      -0.024711 -3.989864e-17   \n",
       "Sorghum         0.129586       0.182531      -0.089006 -4.510281e-17   \n",
       "Sugar           0.092819       0.049174       0.030659 -4.336809e-18   \n",
       "Teff            0.082895       0.119548      -0.108560  2.775558e-17   \n",
       "Wheat          -0.058856      -0.077084       0.021399 -1.110223e-16   \n",
       "\n",
       "k          Males 04-08  Males 09-13  Males 14-18  Males 19-30  Males 31-50  \\\n",
       "j                                                                            \n",
       "Banana       -0.031110    -0.084917     0.128403    -0.014851     0.256981   \n",
       "Chat/Kat      0.131043    -0.038674    -0.005534     0.208971     0.218307   \n",
       "Coffee        0.030059    -0.024694     0.056096    -0.044672     0.112013   \n",
       "Eggs         -0.229090    -0.154319    -0.035864    -0.046280    -0.043725   \n",
       "Field Pea     0.033676    -0.001475     0.037698     0.015677     0.138646   \n",
       "Maize         0.052307     0.020724     0.067978     0.125592     0.106950   \n",
       "Meat         -0.047305    -0.019730    -0.045161     0.085102     0.081780   \n",
       "Milk          0.159276    -0.074930     0.164176    -0.133215     0.020331   \n",
       "Onion        -0.020367    -0.006574     0.126977     0.050706     0.087002   \n",
       "Potato       -0.003599    -0.010556     0.073001     0.026311     0.094370   \n",
       "Salt          0.040005    -0.001038    -0.003824     0.068594     0.072404   \n",
       "Sorghum       0.093063     0.070401     0.052524     0.021400     0.020434   \n",
       "Sugar         0.127481     0.031925     0.035574     0.041730     0.033213   \n",
       "Teff         -0.138238     0.132421     0.033837     0.184714     0.234564   \n",
       "Wheat         0.043734     0.039317     0.178336     0.014301     0.059438   \n",
       "\n",
       "k          Males 51-99  log HSize  Constant  \n",
       "j                                            \n",
       "Banana       -0.058693   0.153501  1.660771  \n",
       "Chat/Kat      0.171386  -0.208233  4.065754  \n",
       "Coffee        0.128804   0.100772  3.010327  \n",
       "Eggs          0.314028   0.456668  2.597646  \n",
       "Field Pea     0.091073   0.105354  2.616577  \n",
       "Maize         0.052652   0.517483  3.283636  \n",
       "Meat          0.141392   0.255197  4.123313  \n",
       "Milk          0.327841   0.124497  3.022665  \n",
       "Onion         0.080192   0.048994  2.063841  \n",
       "Potato       -0.002433   0.162460  2.057030  \n",
       "Salt          0.107422   0.153109  0.678936  \n",
       "Sorghum       0.152913   0.225205  3.201741  \n",
       "Sugar         0.005023   0.091890  2.596894  \n",
       "Teff          0.072284   0.341161  3.945182  \n",
       "Wheat         0.098576   0.405590  3.589571  "
      ]
     },
     "execution_count": 9,
     "metadata": {},
     "output_type": "execute_result"
    }
   ],
   "source": [
    "result.get_gamma()"
   ]
  },
  {
   "cell_type": "markdown",
   "id": "b6158421-e374-45e9-a8c3-af3285ff0d29",
   "metadata": {},
   "source": [
    "##### Welfare\n",
    "\n"
   ]
  },
  {
   "cell_type": "markdown",
   "id": "714892ae-fce6-4456-bc3d-dc836d9fdce9",
   "metadata": {},
   "source": [
    "Another import quantity we estimate is $w_i$.  This is a welfare measure for the household.  Here&rsquo;s a histogram:\n",
    "\n"
   ]
  },
  {
   "cell_type": "code",
   "execution_count": 10,
   "id": "ae1acc8b-9a2f-4867-ab33-509639477282",
   "metadata": {},
   "outputs": [
    {
     "data": {
      "text/plain": [
       "<Axes: ylabel='Density'>"
      ]
     },
     "execution_count": 10,
     "metadata": {},
     "output_type": "execute_result"
    },
    {
     "data": {
      "image/png": "[encoded data removed]",
      "text/plain": [
       "<Figure size 640x480 with 1 Axes>"
      ]
     },
     "metadata": {},
     "output_type": "display_data"
    }
   ],
   "source": [
    "ax = result.get_w().plot.hist(bins=100,density=True)\n",
    "result.get_w().plot.kde(ax=ax)"
   ]
  },
  {
   "cell_type": "markdown",
   "id": "fa4396b4-fe8f-4bcd-8af3-cb358bd0120c",
   "metadata": {},
   "source": [
    "#### Saving Result\n",
    "\n"
   ]
  },
  {
   "cell_type": "markdown",
   "id": "02f997fe-1619-4547-9506-32e641cf2b3d",
   "metadata": {},
   "source": [
    "You can save the estimated result, using something like\n",
    "\n"
   ]
  },
  {
   "cell_type": "code",
   "execution_count": 11,
   "id": "11cdcada-726a-40a1-98e4-4016e3a20bdf",
   "metadata": {},
   "outputs": [],
   "source": [
    "result.to_pickle('ethiopia_estimates.rgsn')"
   ]
  },
  {
   "cell_type": "markdown",
   "id": "40d2c1e1-dd3a-419d-aa68-d1a2b558b710",
   "metadata": {},
   "source": [
    "You can subsequently load this using\n",
    "\n"
   ]
  },
  {
   "cell_type": "code",
   "execution_count": 13,
   "id": "c27a3b20-b200-4301-b7f6-32b0ba9d8bcd",
   "metadata": {},
   "outputs": [],
   "source": [
    "import cfe\n",
    "result = cfe.regression.read_pickle('ethiopia_estimates.rgsn')"
   ]
  },
  {
   "cell_type": "markdown",
   "id": "8ce3a4e0-24a6-45c5-ba89-fac45fd09314",
   "metadata": {},
   "source": [
    "#### Demand and Utility\n",
    "\n"
   ]
  },
  {
   "cell_type": "markdown",
   "id": "5437c87c-1cc4-4e85-b2a0-f540725c1b84",
   "metadata": {},
   "source": [
    "Having estimated the demand system, we can examine the implied demand curves.\n",
    "\n"
   ]
  },
  {
   "cell_type": "markdown",
   "id": "1856b252-f75e-4d5e-9f14-882a03ae53c4",
   "metadata": {},
   "source": [
    "##### Budgets\n",
    "\n"
   ]
  },
  {
   "cell_type": "markdown",
   "id": "36f04afa-cc38-4d0a-b7c1-47ae5f1148ec",
   "metadata": {},
   "source": [
    "Get food budget for all households, then find median budget:\n",
    "\n"
   ]
  },
  {
   "cell_type": "code",
   "execution_count": 14,
   "id": "fa14f501-ad37-418e-8aa3-7b6dfc14b709",
   "metadata": {},
   "outputs": [],
   "source": [
    "import numpy as np\n",
    "\n",
    "xhat = result.predicted_expenditures()\n",
    "\n",
    "# Total food expenditures per household\n",
    "xbar = xhat.groupby(['i','t','m']).sum()\n",
    "\n",
    "# Reference budget\n",
    "xref = xbar.quantile(0.5)  # Household at 0.5 quantile is median"
   ]
  },
  {
   "cell_type": "markdown",
   "id": "42be6585-102e-4bf7-91c2-3c4143da7ac4",
   "metadata": {},
   "source": [
    "##### Reference Prices\n",
    "\n"
   ]
  },
  {
   "cell_type": "markdown",
   "id": "c098f0e3-e653-4ef7-81fd-957081ecaee5",
   "metadata": {},
   "source": [
    "Choose reference prices.  Here we&rsquo;ll choose a particular year, and average prices across markets.  If you wanted to focus on particular market you&rsquo;d do this differently.\n",
    "\n"
   ]
  },
  {
   "cell_type": "code",
   "execution_count": 15,
   "id": "458a14b8-2291-4f7d-b56a-58b8b0c00b51",
   "metadata": {},
   "outputs": [],
   "source": [
    "# Reference prices chosen from a particular time; average across place.\n",
    "# These are prices per kilogram:\n",
    "pbar = p.mean(axis=1)\n",
    "pbar = pbar[result.beta.index] # Only use prices for goods we can estimate\n",
    "\n",
    "# Replace missing prices with 1 (this is because they're best measured in expenditures)\n",
    "pbar = pbar.replace(np.nan,1)\n",
    "\n",
    "#Finally, define a function to change a single price in the vector $p$:\n",
    "def my_prices(p0,j,p=pbar):\n",
    "    \"\"\"\n",
    "    Change price of jth good to p0, holding other prices fixed.\n",
    "    \"\"\"\n",
    "    p = p.copy()\n",
    "    p.loc[j] = p0\n",
    "    return p"
   ]
  },
  {
   "cell_type": "markdown",
   "id": "070fcde6-8c07-4244-b9d0-218f58cc85f1",
   "metadata": {},
   "source": [
    "##### Demand as a function of prices\n",
    "\n"
   ]
  },
  {
   "cell_type": "markdown",
   "id": "39d1eb20-e854-406f-ba3e-6d9e1552a665",
   "metadata": {},
   "source": [
    "Let&rsquo;s take a look at demand schedules for households with different budgets.\n",
    "\n"
   ]
  },
  {
   "cell_type": "code",
   "execution_count": 16,
   "id": "c86e9dc0-6421-485a-8f31-08fbef37e28e",
   "metadata": {},
   "outputs": [
    {
     "data": {
      "text/html": [
       "<div>\n",
       "<style scoped>\n",
       "    .dataframe tbody tr th:only-of-type {\n",
       "        vertical-align: middle;\n",
       "    }\n",
       "\n",
       "    .dataframe tbody tr th {\n",
       "        vertical-align: top;\n",
       "    }\n",
       "\n",
       "    .dataframe thead tr th {\n",
       "        text-align: left;\n",
       "    }\n",
       "\n",
       "    .dataframe thead tr:last-of-type th {\n",
       "        text-align: right;\n",
       "    }\n",
       "</style>\n",
       "<table border=\"1\" class=\"dataframe\">\n",
       "  <thead>\n",
       "    <tr>\n",
       "      <th>t</th>\n",
       "      <th colspan=\"10\" halign=\"left\">2011-12</th>\n",
       "    </tr>\n",
       "    <tr>\n",
       "      <th>m</th>\n",
       "      <th>Afar</th>\n",
       "      <th>Amhara</th>\n",
       "      <th>Benishangul-Gumuz</th>\n",
       "      <th>Dire Dawa</th>\n",
       "      <th>Gambela</th>\n",
       "      <th>Harari</th>\n",
       "      <th>Oromia</th>\n",
       "      <th>SNNP</th>\n",
       "      <th>Somali</th>\n",
       "      <th>Tigray</th>\n",
       "    </tr>\n",
       "    <tr>\n",
       "      <th>j</th>\n",
       "      <th></th>\n",
       "      <th></th>\n",
       "      <th></th>\n",
       "      <th></th>\n",
       "      <th></th>\n",
       "      <th></th>\n",
       "      <th></th>\n",
       "      <th></th>\n",
       "      <th></th>\n",
       "      <th></th>\n",
       "    </tr>\n",
       "  </thead>\n",
       "  <tbody>\n",
       "    <tr>\n",
       "      <th>Banana</th>\n",
       "      <td>12.719136</td>\n",
       "      <td>8.727964</td>\n",
       "      <td>5.161032</td>\n",
       "      <td>9.480260</td>\n",
       "      <td>5.536467</td>\n",
       "      <td>10.999177</td>\n",
       "      <td>9.155665</td>\n",
       "      <td>9.525529</td>\n",
       "      <td>12.995237</td>\n",
       "      <td>31.635573</td>\n",
       "    </tr>\n",
       "    <tr>\n",
       "      <th>Barley</th>\n",
       "      <td>12.500000</td>\n",
       "      <td>6.816409</td>\n",
       "      <td>14.000000</td>\n",
       "      <td>10.899999</td>\n",
       "      <td>84.569441</td>\n",
       "      <td>16.000000</td>\n",
       "      <td>10.362240</td>\n",
       "      <td>8.966185</td>\n",
       "      <td>NaN</td>\n",
       "      <td>7.496286</td>\n",
       "    </tr>\n",
       "    <tr>\n",
       "      <th>Chat/Kat</th>\n",
       "      <td>200.300826</td>\n",
       "      <td>48.792931</td>\n",
       "      <td>58.270776</td>\n",
       "      <td>38.066455</td>\n",
       "      <td>100.714281</td>\n",
       "      <td>54.562239</td>\n",
       "      <td>37.708219</td>\n",
       "      <td>34.495670</td>\n",
       "      <td>101.292567</td>\n",
       "      <td>108.071248</td>\n",
       "    </tr>\n",
       "    <tr>\n",
       "      <th>Cheese</th>\n",
       "      <td>NaN</td>\n",
       "      <td>NaN</td>\n",
       "      <td>NaN</td>\n",
       "      <td>NaN</td>\n",
       "      <td>22.105262</td>\n",
       "      <td>NaN</td>\n",
       "      <td>16.855615</td>\n",
       "      <td>34.156627</td>\n",
       "      <td>NaN</td>\n",
       "      <td>35.249998</td>\n",
       "    </tr>\n",
       "    <tr>\n",
       "      <th>Chick Pea</th>\n",
       "      <td>18.666666</td>\n",
       "      <td>14.614968</td>\n",
       "      <td>22.119047</td>\n",
       "      <td>NaN</td>\n",
       "      <td>17.000000</td>\n",
       "      <td>15.500000</td>\n",
       "      <td>10.876531</td>\n",
       "      <td>16.065072</td>\n",
       "      <td>15.999999</td>\n",
       "      <td>19.343184</td>\n",
       "    </tr>\n",
       "    <tr>\n",
       "      <th>Coffee</th>\n",
       "      <td>106.107681</td>\n",
       "      <td>84.961716</td>\n",
       "      <td>68.954637</td>\n",
       "      <td>53.509090</td>\n",
       "      <td>75.586732</td>\n",
       "      <td>87.107496</td>\n",
       "      <td>89.963092</td>\n",
       "      <td>122.103984</td>\n",
       "      <td>83.568771</td>\n",
       "      <td>113.365979</td>\n",
       "    </tr>\n",
       "    <tr>\n",
       "      <th>Eggs</th>\n",
       "      <td>17.107583</td>\n",
       "      <td>12.282080</td>\n",
       "      <td>12.698412</td>\n",
       "      <td>10.611111</td>\n",
       "      <td>11.885185</td>\n",
       "      <td>15.740740</td>\n",
       "      <td>11.675299</td>\n",
       "      <td>12.843198</td>\n",
       "      <td>133.950612</td>\n",
       "      <td>14.780824</td>\n",
       "    </tr>\n",
       "    <tr>\n",
       "      <th>Field Pea</th>\n",
       "      <td>20.500000</td>\n",
       "      <td>17.795617</td>\n",
       "      <td>23.159999</td>\n",
       "      <td>26.359042</td>\n",
       "      <td>21.681321</td>\n",
       "      <td>17.599999</td>\n",
       "      <td>15.891058</td>\n",
       "      <td>14.062776</td>\n",
       "      <td>12.500000</td>\n",
       "      <td>16.129078</td>\n",
       "    </tr>\n",
       "    <tr>\n",
       "      <th>Haricot Beans</th>\n",
       "      <td>7.800000</td>\n",
       "      <td>52.243167</td>\n",
       "      <td>9.526735</td>\n",
       "      <td>7.192043</td>\n",
       "      <td>37.864284</td>\n",
       "      <td>8.000000</td>\n",
       "      <td>41.041857</td>\n",
       "      <td>19.990899</td>\n",
       "      <td>13.383041</td>\n",
       "      <td>6.000000</td>\n",
       "    </tr>\n",
       "    <tr>\n",
       "      <th>Horsebeans</th>\n",
       "      <td>22.625000</td>\n",
       "      <td>26.436745</td>\n",
       "      <td>16.520000</td>\n",
       "      <td>25.930735</td>\n",
       "      <td>18.443898</td>\n",
       "      <td>NaN</td>\n",
       "      <td>17.848327</td>\n",
       "      <td>51.896768</td>\n",
       "      <td>10.000000</td>\n",
       "      <td>17.952283</td>\n",
       "    </tr>\n",
       "    <tr>\n",
       "      <th>Kocho</th>\n",
       "      <td>50.000000</td>\n",
       "      <td>48.222222</td>\n",
       "      <td>2.500000</td>\n",
       "      <td>NaN</td>\n",
       "      <td>9.856163</td>\n",
       "      <td>NaN</td>\n",
       "      <td>11.676176</td>\n",
       "      <td>47.489012</td>\n",
       "      <td>54.999997</td>\n",
       "      <td>NaN</td>\n",
       "    </tr>\n",
       "    <tr>\n",
       "      <th>Lentils</th>\n",
       "      <td>24.511628</td>\n",
       "      <td>21.058427</td>\n",
       "      <td>26.777777</td>\n",
       "      <td>NaN</td>\n",
       "      <td>24.538461</td>\n",
       "      <td>27.999999</td>\n",
       "      <td>23.919585</td>\n",
       "      <td>24.472048</td>\n",
       "      <td>27.999999</td>\n",
       "      <td>22.676994</td>\n",
       "    </tr>\n",
       "    <tr>\n",
       "      <th>Linseed</th>\n",
       "      <td>19.999999</td>\n",
       "      <td>15.910113</td>\n",
       "      <td>12.000000</td>\n",
       "      <td>24.632600</td>\n",
       "      <td>NaN</td>\n",
       "      <td>22.194265</td>\n",
       "      <td>17.105605</td>\n",
       "      <td>26.018517</td>\n",
       "      <td>NaN</td>\n",
       "      <td>10.833333</td>\n",
       "    </tr>\n",
       "    <tr>\n",
       "      <th>Maize</th>\n",
       "      <td>6.686601</td>\n",
       "      <td>5.719978</td>\n",
       "      <td>3.247090</td>\n",
       "      <td>8.144729</td>\n",
       "      <td>235.678263</td>\n",
       "      <td>8.466369</td>\n",
       "      <td>5.023135</td>\n",
       "      <td>9.094639</td>\n",
       "      <td>8.657109</td>\n",
       "      <td>5.364380</td>\n",
       "    </tr>\n",
       "    <tr>\n",
       "      <th>Meat</th>\n",
       "      <td>65.267855</td>\n",
       "      <td>78.042404</td>\n",
       "      <td>51.425925</td>\n",
       "      <td>68.999997</td>\n",
       "      <td>72.983739</td>\n",
       "      <td>70.249998</td>\n",
       "      <td>72.074998</td>\n",
       "      <td>54.632867</td>\n",
       "      <td>60.190475</td>\n",
       "      <td>90.411603</td>\n",
       "    </tr>\n",
       "    <tr>\n",
       "      <th>Milk</th>\n",
       "      <td>21.666667</td>\n",
       "      <td>62.430387</td>\n",
       "      <td>8.000000</td>\n",
       "      <td>8.006961</td>\n",
       "      <td>1630.036932</td>\n",
       "      <td>10.649753</td>\n",
       "      <td>11.236582</td>\n",
       "      <td>5.767124</td>\n",
       "      <td>11.448404</td>\n",
       "      <td>9.735294</td>\n",
       "    </tr>\n",
       "    <tr>\n",
       "      <th>Millet</th>\n",
       "      <td>NaN</td>\n",
       "      <td>5.785660</td>\n",
       "      <td>3.965079</td>\n",
       "      <td>NaN</td>\n",
       "      <td>NaN</td>\n",
       "      <td>NaN</td>\n",
       "      <td>6.504168</td>\n",
       "      <td>6.000000</td>\n",
       "      <td>NaN</td>\n",
       "      <td>5.527722</td>\n",
       "    </tr>\n",
       "    <tr>\n",
       "      <th>Niger Seed</th>\n",
       "      <td>19.090908</td>\n",
       "      <td>17.481493</td>\n",
       "      <td>10.111111</td>\n",
       "      <td>NaN</td>\n",
       "      <td>NaN</td>\n",
       "      <td>NaN</td>\n",
       "      <td>13.399999</td>\n",
       "      <td>31.999998</td>\n",
       "      <td>NaN</td>\n",
       "      <td>9.125000</td>\n",
       "    </tr>\n",
       "    <tr>\n",
       "      <th>Onion</th>\n",
       "      <td>40.838612</td>\n",
       "      <td>19.367401</td>\n",
       "      <td>11.826316</td>\n",
       "      <td>29.642179</td>\n",
       "      <td>11.302564</td>\n",
       "      <td>9.729745</td>\n",
       "      <td>16.507272</td>\n",
       "      <td>14.302836</td>\n",
       "      <td>53.551389</td>\n",
       "      <td>16.403048</td>\n",
       "    </tr>\n",
       "    <tr>\n",
       "      <th>Potato</th>\n",
       "      <td>9.138889</td>\n",
       "      <td>7.611918</td>\n",
       "      <td>6.975000</td>\n",
       "      <td>40.999018</td>\n",
       "      <td>8.733333</td>\n",
       "      <td>6.103297</td>\n",
       "      <td>23.903467</td>\n",
       "      <td>7.243993</td>\n",
       "      <td>19.578453</td>\n",
       "      <td>8.348306</td>\n",
       "    </tr>\n",
       "    <tr>\n",
       "      <th>Salt</th>\n",
       "      <td>14.234374</td>\n",
       "      <td>16.553893</td>\n",
       "      <td>6.967848</td>\n",
       "      <td>7.988564</td>\n",
       "      <td>8.688395</td>\n",
       "      <td>16.283892</td>\n",
       "      <td>10.600245</td>\n",
       "      <td>27.640815</td>\n",
       "      <td>9.771768</td>\n",
       "      <td>20.237714</td>\n",
       "    </tr>\n",
       "    <tr>\n",
       "      <th>Sorghum</th>\n",
       "      <td>4.166667</td>\n",
       "      <td>7.381789</td>\n",
       "      <td>4.777098</td>\n",
       "      <td>6.150021</td>\n",
       "      <td>109.709972</td>\n",
       "      <td>12.184286</td>\n",
       "      <td>6.056871</td>\n",
       "      <td>4.439311</td>\n",
       "      <td>7.307391</td>\n",
       "      <td>5.198657</td>\n",
       "    </tr>\n",
       "    <tr>\n",
       "      <th>Sugar</th>\n",
       "      <td>26.939247</td>\n",
       "      <td>31.275645</td>\n",
       "      <td>23.457371</td>\n",
       "      <td>41.600118</td>\n",
       "      <td>21.606462</td>\n",
       "      <td>19.882205</td>\n",
       "      <td>24.995582</td>\n",
       "      <td>21.073666</td>\n",
       "      <td>55.160936</td>\n",
       "      <td>27.918768</td>\n",
       "    </tr>\n",
       "    <tr>\n",
       "      <th>Teff</th>\n",
       "      <td>14.975168</td>\n",
       "      <td>10.045251</td>\n",
       "      <td>13.066667</td>\n",
       "      <td>7.936508</td>\n",
       "      <td>12.349107</td>\n",
       "      <td>10.400000</td>\n",
       "      <td>16.748875</td>\n",
       "      <td>17.629946</td>\n",
       "      <td>37.821013</td>\n",
       "      <td>16.916136</td>\n",
       "    </tr>\n",
       "    <tr>\n",
       "      <th>Wheat</th>\n",
       "      <td>8.176963</td>\n",
       "      <td>9.068002</td>\n",
       "      <td>9.090909</td>\n",
       "      <td>10.338104</td>\n",
       "      <td>9.580519</td>\n",
       "      <td>9.131244</td>\n",
       "      <td>8.141263</td>\n",
       "      <td>7.538009</td>\n",
       "      <td>26.072665</td>\n",
       "      <td>9.045317</td>\n",
       "    </tr>\n",
       "  </tbody>\n",
       "</table>\n",
       "</div>"
      ],
      "text/plain": [
       "t                 2011-12                                          \\\n",
       "m                    Afar     Amhara Benishangul-Gumuz  Dire Dawa   \n",
       "j                                                                   \n",
       "Banana          12.719136   8.727964          5.161032   9.480260   \n",
       "Barley          12.500000   6.816409         14.000000  10.899999   \n",
       "Chat/Kat       200.300826  48.792931         58.270776  38.066455   \n",
       "Cheese                NaN        NaN               NaN        NaN   \n",
       "Chick Pea       18.666666  14.614968         22.119047        NaN   \n",
       "Coffee         106.107681  84.961716         68.954637  53.509090   \n",
       "Eggs            17.107583  12.282080         12.698412  10.611111   \n",
       "Field Pea       20.500000  17.795617         23.159999  26.359042   \n",
       "Haricot Beans    7.800000  52.243167          9.526735   7.192043   \n",
       "Horsebeans      22.625000  26.436745         16.520000  25.930735   \n",
       "Kocho           50.000000  48.222222          2.500000        NaN   \n",
       "Lentils         24.511628  21.058427         26.777777        NaN   \n",
       "Linseed         19.999999  15.910113         12.000000  24.632600   \n",
       "Maize            6.686601   5.719978          3.247090   8.144729   \n",
       "Meat            65.267855  78.042404         51.425925  68.999997   \n",
       "Milk            21.666667  62.430387          8.000000   8.006961   \n",
       "Millet                NaN   5.785660          3.965079        NaN   \n",
       "Niger Seed      19.090908  17.481493         10.111111        NaN   \n",
       "Onion           40.838612  19.367401         11.826316  29.642179   \n",
       "Potato           9.138889   7.611918          6.975000  40.999018   \n",
       "Salt            14.234374  16.553893          6.967848   7.988564   \n",
       "Sorghum          4.166667   7.381789          4.777098   6.150021   \n",
       "Sugar           26.939247  31.275645         23.457371  41.600118   \n",
       "Teff            14.975168  10.045251         13.066667   7.936508   \n",
       "Wheat            8.176963   9.068002          9.090909  10.338104   \n",
       "\n",
       "t                                                                         \\\n",
       "m                  Gambela     Harari     Oromia        SNNP      Somali   \n",
       "j                                                                          \n",
       "Banana            5.536467  10.999177   9.155665    9.525529   12.995237   \n",
       "Barley           84.569441  16.000000  10.362240    8.966185         NaN   \n",
       "Chat/Kat        100.714281  54.562239  37.708219   34.495670  101.292567   \n",
       "Cheese           22.105262        NaN  16.855615   34.156627         NaN   \n",
       "Chick Pea        17.000000  15.500000  10.876531   16.065072   15.999999   \n",
       "Coffee           75.586732  87.107496  89.963092  122.103984   83.568771   \n",
       "Eggs             11.885185  15.740740  11.675299   12.843198  133.950612   \n",
       "Field Pea        21.681321  17.599999  15.891058   14.062776   12.500000   \n",
       "Haricot Beans    37.864284   8.000000  41.041857   19.990899   13.383041   \n",
       "Horsebeans       18.443898        NaN  17.848327   51.896768   10.000000   \n",
       "Kocho             9.856163        NaN  11.676176   47.489012   54.999997   \n",
       "Lentils          24.538461  27.999999  23.919585   24.472048   27.999999   \n",
       "Linseed                NaN  22.194265  17.105605   26.018517         NaN   \n",
       "Maize           235.678263   8.466369   5.023135    9.094639    8.657109   \n",
       "Meat             72.983739  70.249998  72.074998   54.632867   60.190475   \n",
       "Milk           1630.036932  10.649753  11.236582    5.767124   11.448404   \n",
       "Millet                 NaN        NaN   6.504168    6.000000         NaN   \n",
       "Niger Seed             NaN        NaN  13.399999   31.999998         NaN   \n",
       "Onion            11.302564   9.729745  16.507272   14.302836   53.551389   \n",
       "Potato            8.733333   6.103297  23.903467    7.243993   19.578453   \n",
       "Salt              8.688395  16.283892  10.600245   27.640815    9.771768   \n",
       "Sorghum         109.709972  12.184286   6.056871    4.439311    7.307391   \n",
       "Sugar            21.606462  19.882205  24.995582   21.073666   55.160936   \n",
       "Teff             12.349107  10.400000  16.748875   17.629946   37.821013   \n",
       "Wheat             9.580519   9.131244   8.141263    7.538009   26.072665   \n",
       "\n",
       "t                          \n",
       "m                  Tigray  \n",
       "j                          \n",
       "Banana          31.635573  \n",
       "Barley           7.496286  \n",
       "Chat/Kat       108.071248  \n",
       "Cheese          35.249998  \n",
       "Chick Pea       19.343184  \n",
       "Coffee         113.365979  \n",
       "Eggs            14.780824  \n",
       "Field Pea       16.129078  \n",
       "Haricot Beans    6.000000  \n",
       "Horsebeans      17.952283  \n",
       "Kocho                 NaN  \n",
       "Lentils         22.676994  \n",
       "Linseed         10.833333  \n",
       "Maize            5.364380  \n",
       "Meat            90.411603  \n",
       "Milk             9.735294  \n",
       "Millet           5.527722  \n",
       "Niger Seed       9.125000  \n",
       "Onion           16.403048  \n",
       "Potato           8.348306  \n",
       "Salt            20.237714  \n",
       "Sorghum          5.198657  \n",
       "Sugar           27.918768  \n",
       "Teff            16.916136  \n",
       "Wheat            9.045317  "
      ]
     },
     "execution_count": 16,
     "metadata": {},
     "output_type": "execute_result"
    }
   ],
   "source": [
    "p"
   ]
  },
  {
   "cell_type": "code",
   "execution_count": 18,
   "id": "60983acf-7547-4d45-a445-d50634aac613",
   "metadata": {},
   "outputs": [
    {
     "data": {
      "text/plain": [
       "Text(0.5, 0, 'Quantities of Eggs Demanded')"
      ]
     },
     "execution_count": 18,
     "metadata": {},
     "output_type": "execute_result"
    },
    {
     "data": {
      "image/png": "[encoded data removed]",
      "text/plain": [
       "<Figure size 640x480 with 1 Axes>"
      ]
     },
     "metadata": {},
     "output_type": "display_data"
    }
   ],
   "source": [
    "import matplotlib.pyplot as plt\n",
    "%matplotlib inline\n",
    "\n",
    "use = 'Eggs'  # Good we want demand curve for\n",
    "\n",
    "# Vary prices from 50% to 200% of reference.\n",
    "scale = np.linspace(.5,2,20)\n",
    "\n",
    "# Demand for Millet for household at median budget\n",
    "plt.plot([result.demands(xref,my_prices(pbar[use]*s,use,pbar))[use] for s in scale],scale)\n",
    "\n",
    "# Demand for Millet for household at 25% percentile\n",
    "plt.plot([result.demands(xbar.quantile(0.25),my_prices(pbar[use]*s,use,pbar))[use] for s in scale],scale)\n",
    "\n",
    "# Demand for Millet for household at 75% percentile\n",
    "plt.plot([result.demands(xbar.quantile(0.75),my_prices(pbar[use]*s,use,pbar))[use] for s in scale],scale)\n",
    "\n",
    "plt.ylabel(f\"Price (relative to base of {pbar[use]:.2f})\")\n",
    "plt.xlabel(f\"Quantities of {use} Demanded\")"
   ]
  },
  {
   "cell_type": "markdown",
   "id": "3bd98a89-6c06-428c-ace7-0e0826b27123",
   "metadata": {},
   "source": [
    "##### Engel Curves\n",
    "\n"
   ]
  },
  {
   "cell_type": "markdown",
   "id": "de99a244-59ba-477a-bfb5-2bf9cb263f2a",
   "metadata": {},
   "source": [
    "Engel curves trace out how demand changes with budget:\n",
    "\n"
   ]
  },
  {
   "cell_type": "code",
   "execution_count": 19,
   "id": "6dea2fa0-a1ed-4a12-b48b-c76f82e07d9a",
   "metadata": {},
   "outputs": [
    {
     "data": {
      "text/plain": [
       "Text(0.5, 1.0, 'Engel Curves')"
      ]
     },
     "execution_count": 19,
     "metadata": {},
     "output_type": "execute_result"
    },
    {
     "data": {
      "image/png": "[encoded data removed]",
      "text/plain": [
       "<Figure size 640x480 with 1 Axes>"
      ]
     },
     "metadata": {},
     "output_type": "display_data"
    }
   ],
   "source": [
    "fig,ax = plt.subplots()\n",
    "\n",
    "ax.plot(np.log(scale*xref),[result.expenditures(s*xref,pbar)/(s*xref) for s in scale])\n",
    "ax.set_xlabel(f'log budget (relative to base of {xref:.0f}')\n",
    "ax.set_ylabel(f'Expenditure share')\n",
    "ax.set_title('Engel Curves')"
   ]
  },
  {
   "cell_type": "markdown",
   "id": "cd03ca25-5c6a-4101-a0f5-816a098f13c6",
   "metadata": {},
   "source": [
    "##### Indirect Utility\n",
    "\n"
   ]
  },
  {
   "cell_type": "markdown",
   "id": "b0a9562d-2c39-4de6-bc19-6380632b539a",
   "metadata": {},
   "source": [
    "We can also describe an indirect utility function that corresponds to these demands:\n",
    "\n"
   ]
  },
  {
   "cell_type": "code",
   "execution_count": 20,
   "id": "8faf40b7-7f13-41fc-a09b-d63fb5822107",
   "metadata": {},
   "outputs": [
    {
     "data": {
      "text/plain": [
       "Text(0.5, 1.0, 'Indirect Utility Function')"
      ]
     },
     "execution_count": 20,
     "metadata": {},
     "output_type": "execute_result"
    },
    {
     "data": {
      "image/png": "[encoded data removed]",
      "text/plain": [
       "<Figure size 640x480 with 1 Axes>"
      ]
     },
     "metadata": {},
     "output_type": "display_data"
    }
   ],
   "source": [
    "fig,ax = plt.subplots()\n",
    "\n",
    "ax.plot(scale*xref,[result.indirect_utility(s*xref,pbar) for s in scale])\n",
    "ax.set_xlabel(f'Indirect Utility (Budget relative to base of {xref:.0f}')\n",
    "ax.set_ylabel(f'Utility')\n",
    "ax.set_title('Indirect Utility Function')"
   ]
  },
  {
   "cell_type": "code",
   "execution_count": null,
   "id": "f83d0925-d61e-46c1-90e4-31a14e92b231",
   "metadata": {},
   "outputs": [],
   "source": []
  }
 ],
 "metadata": {
  "kernelspec": {
   "display_name": "Python 3 (ipykernel)",
   "language": "python",
   "name": "python3"
  },
  "language_info": {
   "codemirror_mode": {
    "name": "ipython",
    "version": 3
   },
   "file_extension": ".py",
   "mimetype": "text/x-python",
   "name": "python",
   "nbconvert_exporter": "python",
   "pygments_lexer": "ipython3",
   "version": "3.11.11"
  },
  "org": null
 },
 "nbformat": 4,
 "nbformat_minor": 5
}
